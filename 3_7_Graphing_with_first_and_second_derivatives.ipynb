{
  "nbformat": 4,
  "nbformat_minor": 0,
  "metadata": {
    "colab": {
      "name": "3.7 Graphing with first and second derivatives",
      "provenance": [],
      "collapsed_sections": [],
      "authorship_tag": "ABX9TyOJLNZ8pJXI9irRMRyH8DG9",
      "include_colab_link": true
    },
    "kernelspec": {
      "name": "python3",
      "display_name": "Python 3"
    },
    "language_info": {
      "name": "python"
    }
  },
  "cells": [
    {
      "cell_type": "markdown",
      "metadata": {
        "id": "view-in-github",
        "colab_type": "text"
      },
      "source": [
        "<a href=\"https://colab.research.google.com/github/Chimi-Dendup/Calculus/blob/main/3_7_Graphing_with_first_and_second_derivatives.ipynb\" target=\"_parent\"><img src=\"https://colab.research.google.com/assets/colab-badge.svg\" alt=\"Open In Colab\"/></a>"
      ]
    },
    {
      "cell_type": "markdown",
      "source": [
        "# **Graphing with $y'$ and $y''$**"
      ],
      "metadata": {
        "id": "GAvxr-uPYp7C"
      }
    },
    {
      "cell_type": "markdown",
      "source": [
        "We now apply what we have learned to sketch the graphs of functions."
      ],
      "metadata": {
        "id": "8r0VTqV5YYxL"
      }
    },
    {
      "cell_type": "markdown",
      "source": [
        "**Strategy for graphing $y=f(x)$**\n",
        "\n",
        "\n",
        "---\n",
        "\n",
        "\n",
        "\n",
        "1.   Find $y'$ and $y''$.\n",
        "2.   Find the rise and fall of the curve.\n",
        "3.   Determine the concavity of the curve.\n",
        "4.   Make a summary and show the curve's general shape.\n",
        "5.   Plot specific points and sketch the curve.\n",
        "\n",
        "\n",
        "---\n",
        "\n"
      ],
      "metadata": {
        "id": "1FruzQVNY5rW"
      }
    },
    {
      "cell_type": "markdown",
      "source": [
        "**Example:** Graph the function $f(x)=\\frac{1}{3}x^3-x^2-3x+4$.\n",
        "\n",
        "**Solution:**  First find the first derivative of the function $f(x)$ with respect to $x$.\n",
        "$$f'(x)=\\frac{1}{3}(3x^2)-2x-3$$\n",
        "Find the critical points by $f'(x)=0$\n",
        "$$x^2-2x-3=0$$\n",
        "$$\\implies(x-3)(x+1)=0$$\n",
        "$$x=3~~or~~x=-1$$\n",
        "Here, for the values less than $-1$, $f'(x)>0$, thus incerasing. Also, for the values between $-1$ and $3$, $f'(x)<0$, decreasing. And, values greater than $3$, $f'(x)>0$,increasing. At $x=-1$, $f(x)$ will have maxima, and at $x=3$, $f(x)$ will have minima.\n",
        "\n",
        "Similarly, we can check the second derivative of the function $f(x)$.\n",
        "$$f''(x)=2x-2=0$$\n",
        "$$\\implies x=1$$ \n",
        "\n",
        "Here as well, for values less than $1$, $f''(x)<0$, concave down. Also, for values greater than $1$, $f''(x)>0$, concave up.\n",
        "\n",
        "Accordingly, try to plot the curve using the above summary."
      ],
      "metadata": {
        "id": "04iIym_IYnLw"
      }
    },
    {
      "cell_type": "markdown",
      "source": [
        "![ff der.png](data:image/png;base64,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)"
      ],
      "metadata": {
        "id": "PT2pYXKCn2nn"
      }
    },
    {
      "cell_type": "markdown",
      "source": [
        "![f der.png](data:image/png;base64,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)"
      ],
      "metadata": {
        "id": "bj9ZxsCNn48c"
      }
    },
    {
      "cell_type": "markdown",
      "source": [
        "# **Activity:**"
      ],
      "metadata": {
        "id": "a95aj-eKbqD5"
      }
    },
    {
      "cell_type": "markdown",
      "source": [
        "**Q1)** Graph $\\displaystyle y=x^{5/3}-5x^{2/3}$"
      ],
      "metadata": {
        "id": "BUQDMQW6mYkX"
      }
    },
    {
      "cell_type": "code",
      "source": [
        "import numpy as np\n",
        "from matplotlib import pyplot as plt\n",
        "#plt.rcParams[\"figure.figsize\"] = [7.00, 3.50]\n",
        "#plt.rcParams[\"figure.autolayout\"] = True\n",
        "x = np.linspace(-5, 6, 100)\n",
        "y = x**(5/3)-5*x**(2/3)\n",
        "\n",
        "#plt.axis('off')\n",
        "plt.plot(x, y,label=\"chart\")\n",
        "plt.axhline(y=0, c='red')\n",
        "plt.axvline(x=0, c='red')\n",
        "plt.legend(loc='upper left')\n",
        "plt.show()"
      ],
      "metadata": {
        "colab": {
          "base_uri": "https://localhost:8080/",
          "height": 300
        },
        "id": "CDodByUfU-Uo",
        "outputId": "ab67dff3-c761-4a2d-fe14-a5234b463008"
      },
      "execution_count": null,
      "outputs": [
        {
          "output_type": "stream",
          "name": "stderr",
          "text": [
            "/usr/local/lib/python3.7/dist-packages/ipykernel_launcher.py:6: RuntimeWarning: invalid value encountered in power\n",
            "  \n"
          ]
        },
        {
          "output_type": "display_data",
          "data": {
            "text/plain": [
              "<Figure size 432x288 with 1 Axes>"
            ],
            "image/png": "[encoded data removed]"
          },
          "metadata": {
            "needs_background": "light"
          }
        }
      ]
    },
    {
      "cell_type": "markdown",
      "source": [
        "**Q2)** Graph the function $y=x^4-4x^3+10$."
      ],
      "metadata": {
        "id": "qN8kvMotmxeC"
      }
    },
    {
      "cell_type": "code",
      "source": [
        "import numpy as np\n",
        "from matplotlib import pyplot as plt\n",
        "#plt.rcParams[\"figure.figsize\"] = [7.00, 3.50]\n",
        "#plt.rcParams[\"figure.autolayout\"] = True\n",
        "x = np.linspace(-3, 6, 100)\n",
        "y = x**4-4*x**3+10\n",
        "\n",
        "#plt.axis('off')\n",
        "plt.plot(x, y,label=\"chart\")\n",
        "plt.axhline(y=0, c='red')\n",
        "plt.axvline(x=0, c='red')\n",
        "plt.legend(loc='upper left')\n",
        "plt.show()\n"
      ],
      "metadata": {
        "colab": {
          "base_uri": "https://localhost:8080/"
        },
        "id": "KkXzoj4SCqa9",
        "outputId": "34baffd6-fe89-45f4-90dc-12fb9106c030"
      },
      "execution_count": null,
      "outputs": [
        {
          "output_type": "display_data",
          "data": {
            "text/plain": [
              "<Figure size 432x288 with 1 Axes>"
            ],
            "image/png": "[encoded data removed]"
          },
          "metadata": {
            "needs_background": "light"
          }
        }
      ]
    },
    {
      "cell_type": "code",
      "source": [
        ""
      ],
      "metadata": {
        "colab": {
          "base_uri": "https://localhost:8080/"
        },
        "id": "s8xdQU-sCxN4",
        "outputId": "0bb0c037-0e06-4c0a-8be1-ed2b851249e5"
      },
      "execution_count": null,
      "outputs": [
        {
          "output_type": "execute_result",
          "data": {
            "text/plain": [
              "array([-3.        , -2.90909091, -2.81818182, -2.72727273, -2.63636364,\n",
              "       -2.54545455, -2.45454545, -2.36363636, -2.27272727, -2.18181818,\n",
              "       -2.09090909, -2.        , -1.90909091, -1.81818182, -1.72727273,\n",
              "       -1.63636364, -1.54545455, -1.45454545, -1.36363636, -1.27272727,\n",
              "       -1.18181818, -1.09090909, -1.        , -0.90909091, -0.81818182,\n",
              "       -0.72727273, -0.63636364, -0.54545455, -0.45454545, -0.36363636,\n",
              "       -0.27272727, -0.18181818, -0.09090909,  0.        ,  0.09090909,\n",
              "        0.18181818,  0.27272727,  0.36363636,  0.45454545,  0.54545455,\n",
              "        0.63636364,  0.72727273,  0.81818182,  0.90909091,  1.        ,\n",
              "        1.09090909,  1.18181818,  1.27272727,  1.36363636,  1.45454545,\n",
              "        1.54545455,  1.63636364,  1.72727273,  1.81818182,  1.90909091,\n",
              "        2.        ,  2.09090909,  2.18181818,  2.27272727,  2.36363636,\n",
              "        2.45454545,  2.54545455,  2.63636364,  2.72727273,  2.81818182,\n",
              "        2.90909091,  3.        ,  3.09090909,  3.18181818,  3.27272727,\n",
              "        3.36363636,  3.45454545,  3.54545455,  3.63636364,  3.72727273,\n",
              "        3.81818182,  3.90909091,  4.        ,  4.09090909,  4.18181818,\n",
              "        4.27272727,  4.36363636,  4.45454545,  4.54545455,  4.63636364,\n",
              "        4.72727273,  4.81818182,  4.90909091,  5.        ,  5.09090909,\n",
              "        5.18181818,  5.27272727,  5.36363636,  5.45454545,  5.54545455,\n",
              "        5.63636364,  5.72727273,  5.81818182,  5.90909091,  6.        ])"
            ]
          },
          "metadata": {},
          "execution_count": 2
        }
      ]
    },
    {
      "cell_type": "code",
      "source": [
        ""
      ],
      "metadata": {
        "id": "NC29Qp_KD0If"
      },
      "execution_count": null,
      "outputs": []
    }
  ]
}