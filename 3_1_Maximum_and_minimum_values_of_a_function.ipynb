{
  "cells": [
    {
      "cell_type": "markdown",
      "metadata": {
        "id": "view-in-github",
        "colab_type": "text"
      },
      "source": [
        "<a href=\"https://colab.research.google.com/github/Chimi-Dendup/Calculus/blob/main/3_1_Maximum_and_minimum_values_of_a_function.ipynb\" target=\"_parent\"><img src=\"https://colab.research.google.com/assets/colab-badge.svg\" alt=\"Open In Colab\"/></a>"
      ]
    },
    {
      "cell_type": "markdown",
      "metadata": {
        "id": "8zjQNqRbMaMv"
      },
      "source": [
        "# **Finding Maxima and Minima using Derivatives:**"
      ]
    },
    {
      "cell_type": "markdown",
      "metadata": {
        "id": "cju-483wjARK"
      },
      "source": [
        "What are maxima and minima of a function? Calculus can help!\n",
        "\n",
        "A maximum is a high point and a minimum is a low point:\n",
        "\n",
        "In a smoothly changing function a maximum or minimum is always where the function **flattens out** (except for a **saddle point**).\n",
        "\n",
        "**Where does it flatten out?**  Where the **slope is zero**.\n",
        "\n",
        "**Where is the slope zero?**  The **Derivative** tells us!"
      ]
    },
    {
      "cell_type": "markdown",
      "metadata": {
        "id": "u-B4NPxojPqj"
      },
      "source": [
        "**Example:** A ball is thrown in the air. Its height at any time $t$ is given by:\n",
        "$$h=3+14t-5t^2$$\n",
        "What is its maximum height?\n",
        "\n",
        "**Sol.**  Using derivatives we can the the slope of that function \n",
        "$$\\frac{d}{dt}(h)=14-10t$$\n",
        "Now find when the slope is zero:\n",
        "$$14-10t=0$$\n",
        "$$t=1.4$$\n",
        "The slope is zero at $t=1.4$ seconds.\n",
        "\n",
        "And the height at that time is:\n",
        "$$h=3+14(1.4)-5(1.4)^2$$\n",
        "$$h=12.8$$\n",
        "Thus, the maximum height is 12.8 m(at $t=1.4 s$)"
      ]
    },
    {
      "cell_type": "markdown",
      "metadata": {
        "id": "UfqzGYVMn-Hc"
      },
      "source": [
        "**How do we know it is a maximum (or minimum)?**"
      ]
    },
    {
      "cell_type": "markdown",
      "metadata": {
        "id": "cYfPRnn8oSgi"
      },
      "source": [
        "Take the derivative of the slope (the **second derivative** of the original function):\n",
        "\n",
        "The derivative of $14-10t$ is $-10$\n",
        "\n",
        "This means the slope is continually getting smaller $(−10)$: traveling from left to right the slope starts out positive (the function rises), goes through zero (the flat point), and then the slope becomes negative (the function falls):\n",
        "\n",
        "**A slope that gets smaller (and goes though 0) means a maximum.** This is called second derivative test."
      ]
    },
    {
      "cell_type": "markdown",
      "metadata": {
        "id": "86bYkOrppOPQ"
      },
      "source": [
        "**Second Derivative Test:**\n",
        "\n",
        "When a function's slope is zero at $x$, and the second derivative at $x$ is:\n",
        "\n",
        "* less than 0, it is a local maximum\n",
        "* greater than 0, it is a local minimum\n",
        "* equal to 0, then the test fails (there may be other ways of finding out though)"
      ]
    },
    {
      "cell_type": "markdown",
      "metadata": {
        "id": "uw1U-oVYrnFo"
      },
      "source": [
        "**Mathematically we can write:**\n",
        "\n",
        "\n",
        "*   $\\displaystyle\\frac{d^2h}{dt^2}<0,$ it is a local maximum.\n",
        "*   $\\displaystyle\\frac{d^2h}{dt^2}>0,$ it is a local minimum, and \n",
        "*   $\\displaystyle\\frac{d^2h}{dt^2}=0,$ then the test fails (it is called \"Saddle point\" or \"Point of inflection\")\n",
        "\n"
      ]
    },
    {
      "cell_type": "markdown",
      "metadata": {
        "id": "J54teHv_wCQQ"
      },
      "source": [
        "Also, you can verify by plotting the function in Python:\n",
        "\n",
        "First, consider squence $h=3+14t-5t^2$ for $t$ in $[-1,4]$"
      ]
    },
    {
      "cell_type": "code",
      "execution_count": null,
      "metadata": {
        "id": "MEDCiZa3wIG6"
      },
      "outputs": [],
      "source": [
        "import matplotlib.pyplot as plt\n",
        "import numpy as np\n",
        "import sympy as sy"
      ]
    },
    {
      "cell_type": "code",
      "execution_count": null,
      "metadata": {
        "id": "aZVYmmKZxm1H"
      },
      "outputs": [],
      "source": [
        "h = [3+14*t-5*t**2 for t in np.linspace(-1,4,10)]"
      ]
    },
    {
      "cell_type": "code",
      "execution_count": null,
      "metadata": {
        "id": "Qasifkifxrte",
        "colab": {
          "base_uri": "https://localhost:8080/",
          "height": 283
        },
        "outputId": "ee091ab1-861f-48ae-9fab-69bd46c8c4b1"
      },
      "outputs": [
        {
          "output_type": "execute_result",
          "data": {
            "text/plain": [
              "[<matplotlib.lines.Line2D at 0x7f841fa0b3d0>]"
            ]
          },
          "metadata": {},
          "execution_count": 15
        },
        {
          "output_type": "display_data",
          "data": {
            "text/plain": [
              "<Figure size 432x288 with 1 Axes>"
            ],
            "image/png": "[encoded data removed]"
          },
          "metadata": {
            "needs_background": "light"
          }
        }
      ],
      "source": [
        "plt.plot(h, '--o')"
      ]
    },
    {
      "cell_type": "markdown",
      "metadata": {
        "id": "RFGcZPYXtUuv"
      },
      "source": [
        "# **Activity:**"
      ]
    },
    {
      "cell_type": "markdown",
      "metadata": {
        "id": "JVBMyrLVtmId"
      },
      "source": [
        "**Q1:** Find the maxima and minima for:\n",
        "$$y=5x^3+2x^2-3x$$"
      ]
    },
    {
      "cell_type": "markdown",
      "metadata": {
        "id": "eH9EeMGTuXkp"
      },
      "source": [
        "**Q2:** Find the maxima and minima for:\n",
        "$$y=x^3-6x^2+12x-5$$"
      ]
    }
  ],
  "metadata": {
    "colab": {
      "collapsed_sections": [],
      "name": "3.1 Maximum and minimum values of a function",
      "provenance": [],
      "authorship_tag": "ABX9TyMJCIENhRXwt1H9DpbxK2Za",
      "include_colab_link": true
    },
    "kernelspec": {
      "display_name": "Python 3",
      "name": "python3"
    },
    "language_info": {
      "name": "python"
    }
  },
  "nbformat": 4,
  "nbformat_minor": 0
}