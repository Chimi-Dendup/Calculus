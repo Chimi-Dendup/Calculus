{
  "nbformat": 4,
  "nbformat_minor": 0,
  "metadata": {
    "colab": {
      "name": "2.6 L 'Hopital's rule for finding limits of indeterminate forms",
      "provenance": [],
      "authorship_tag": "ABX9TyOxnX/7rJysaBOw5EtjJOrL",
      "include_colab_link": true
    },
    "kernelspec": {
      "name": "python3",
      "display_name": "Python 3"
    },
    "language_info": {
      "name": "python"
    }
  },
  "cells": [
    {
      "cell_type": "markdown",
      "metadata": {
        "id": "view-in-github",
        "colab_type": "text"
      },
      "source": [
        "<a href=\"https://colab.research.google.com/github/Chimi-Dendup/Calculus/blob/main/2_6_L_'Hopital's_rule_for_finding_limits_of_indeterminate_forms.ipynb\" target=\"_parent\"><img src=\"https://colab.research.google.com/assets/colab-badge.svg\" alt=\"Open In Colab\"/></a>"
      ]
    },
    {
      "cell_type": "markdown",
      "source": [
        "# **L'Hopital's Rule:**"
      ],
      "metadata": {
        "id": "7TY9CblUX-JF"
      }
    },
    {
      "cell_type": "markdown",
      "source": [
        "**L'Hospital's Rule** allows us to simplify the evaluation of limits that involve indeterminate forms. An indeterminate form is defined as a limit that does not give enough information to determine the original limit. \n",
        "\n",
        "The most common indeterminate forms that occur in calculus and other areas of mathematics include:\n",
        "$$\\frac{0}{0}, ~~\\frac{\\infty}{\\infty},~~ 0\\times\\infty,~~ 1^{\\infty},~~ \\infty-\\infty,~~ 0^0,~~ \\infty^0$$\n"
      ],
      "metadata": {
        "id": "SG5lWnmJYE4A"
      }
    },
    {
      "cell_type": "markdown",
      "source": [
        "L'Hospital's Rule can be stated as the following:\n",
        "\n",
        "Suppose $f$ and $g$ are both differentiable functions that approach $0 (or \\pm\\infty) $ as $x\\to a$. Then $\\frac{f(x)}{g(x)}$ approaches the same limit as $\\frac{f'(x)}{g'(x)}.$\n",
        "\n",
        "**The derivatives on the numerator and denominator are both taken separately.**\n"
      ],
      "metadata": {
        "id": "Yx3gazwrZh6w"
      }
    },
    {
      "cell_type": "markdown",
      "source": [
        "# **Examples:**"
      ],
      "metadata": {
        "id": "fPDP6YosZVMG"
      }
    },
    {
      "cell_type": "markdown",
      "source": [
        "**Ex 1.** Find the limit of $\\displaystyle\\lim_{x\\to 1}\\frac{x^2-1}{x^2-x}$."
      ],
      "metadata": {
        "id": "EpRlntkWbflK"
      }
    },
    {
      "cell_type": "markdown",
      "source": [
        "We see the limit becomes the indeterminate form $\\frac{0}{0}$ as $x\\to 1.$ Applying L'Hospital's Rule, we differentiate the numerator and denominator separately:\n",
        "$$\\frac{\\frac{d}{dx}(x^2-1)}{\\frac{d}{dx}(x^2-x)}$$\n",
        "\n",
        "Then carrying the derivation:\n",
        "$$\\frac{\\frac{d}{dx}(x^2-1)}{\\frac{d}{dx}(x^2-x)}=\\frac{2x}{2x-1}=\\frac{2(1)}{2(1)-1}=2$$\n",
        "\n",
        "\n",
        "We can confirm our answer using `Sympy` and the `limit()` function."
      ],
      "metadata": {
        "id": "OVItaDXqcCqe"
      }
    },
    {
      "cell_type": "code",
      "source": [
        "from sympy import symbols, limit, diff, sin, cos, log, tan, sqrt, init_printing, plot, oo\n",
        "from mpmath import ln, e, pi\n",
        "\n",
        "init_printing()\n",
        "x = symbols('x')\n",
        "y = symbols('y')"
      ],
      "metadata": {
        "id": "FoEEXJRvdsmB"
      },
      "execution_count": null,
      "outputs": []
    },
    {
      "cell_type": "code",
      "source": [
        "limit((x ** 2 - 1) / (x ** 2 - x), x, 1)"
      ],
      "metadata": {
        "id": "vBK4FbQYdmmB",
        "colab": {
          "base_uri": "https://localhost:8080/",
          "height": 37
        },
        "outputId": "0a8cff78-5e97-4a85-8180-6734249a1f67"
      },
      "execution_count": null,
      "outputs": [
        {
          "output_type": "execute_result",
          "data": {
            "image/png": "[encoded data removed]",
            "text/latex": "$\\displaystyle 2$",
            "text/plain": [
              "2"
            ]
          },
          "metadata": {},
          "execution_count": 2
        }
      ]
    },
    {
      "cell_type": "markdown",
      "source": [
        "**Ex.2:** Find the limit of $\\displaystyle\\lim_{x\\to 1}\\frac{x^9-1}{x^5-1}$.\n",
        "\n",
        "As before, start by differentiating both the numerator and denominator:\n",
        "$$\\frac{\\frac{d}{dx}(x^9-1)}{\\frac{d}{dx}(x^5-1)}=\\frac{9x^8}{5x^4}=\\frac{9(1)^8}{5(1)^4}=\\frac{9}{4}$$\n",
        "\n"
      ],
      "metadata": {
        "id": "PICHJJ8_eQ_x"
      }
    },
    {
      "cell_type": "code",
      "source": [
        "limit((x ** 9 - 1) / (x ** 5 - 1), x, 1) # Check our above result"
      ],
      "metadata": {
        "id": "ZVOFDZ2ld3mN",
        "colab": {
          "base_uri": "https://localhost:8080/",
          "height": 51
        },
        "outputId": "21dcf282-0c1f-4868-9dba-aa2ba3b043ab"
      },
      "execution_count": null,
      "outputs": [
        {
          "output_type": "execute_result",
          "data": {
            "image/png": "[encoded data removed]",
            "text/latex": "$\\displaystyle \\frac{9}{5}$",
            "text/plain": [
              "9/5"
            ]
          },
          "metadata": {},
          "execution_count": 3
        }
      ]
    },
    {
      "cell_type": "markdown",
      "source": [
        "**Ex.3:** Determine the limit of $\\displaystyle\\lim_{x\\to\\frac{\\pi}{2}^+}\\frac{cos(x)}{1-sin(x)}$\n",
        "\n",
        "The limit we are evaluating is on the right-hand side, for now $\\displaystyle\\lim_{x\\to \\frac{\\pi}{2}^+}-tan(x)$, which approaches $-\\infty$ as it is coming from right-hand side.\n",
        "\n",
        "We can visualize this to confirm by taking advantage of `Sympy`'s `plot()` function."
      ],
      "metadata": {
        "id": "NgVAU-ub3pxZ"
      }
    },
    {
      "cell_type": "code",
      "source": [
        "plot(cos(x) / (1 - sin(x)), xlim=(-2, 2))"
      ],
      "metadata": {
        "id": "wgrxCb5B3Ywe",
        "colab": {
          "base_uri": "https://localhost:8080/",
          "height": 314
        },
        "outputId": "7a001346-0789-4875-850f-d6b25dca29cc"
      },
      "execution_count": null,
      "outputs": [
        {
          "output_type": "display_data",
          "data": {
            "image/png": "[encoded data removed]",
            "text/plain": [
              "<Figure size 432x288 with 1 Axes>"
            ]
          },
          "metadata": {
            "needs_background": "light"
          }
        },
        {
          "output_type": "execute_result",
          "data": {
            "text/plain": [
              "<sympy.plotting.plot.Plot at 0x7fc76d3230d0>"
            ]
          },
          "metadata": {},
          "execution_count": 4
        }
      ]
    },
    {
      "cell_type": "markdown",
      "source": [
        "we see that the function shoots up to infinity near $\\frac{\\pi}{2}$ coming from the left-hand side and negative infinity from the right.\n",
        "\n",
        "We can verify our answer again with `Sympy`."
      ],
      "metadata": {
        "id": "xEWuJvq78DE-"
      }
    },
    {
      "cell_type": "code",
      "source": [
        "limit(cos(x) / (1 - sin(x)), x, pi / 2, dir='+')"
      ],
      "metadata": {
        "id": "GrLB7Ii86tGK",
        "colab": {
          "base_uri": "https://localhost:8080/",
          "height": 37
        },
        "outputId": "debde88e-a921-4786-a02e-7c2c5e4971c4"
      },
      "execution_count": null,
      "outputs": [
        {
          "output_type": "execute_result",
          "data": {
            "image/png": "[encoded data removed]",
            "text/latex": "$\\displaystyle -\\infty$",
            "text/plain": [
              "-∞"
            ]
          },
          "metadata": {},
          "execution_count": 5
        }
      ]
    },
    {
      "cell_type": "markdown",
      "source": [
        "# **Activity:**"
      ],
      "metadata": {
        "id": "IzwPT9ML8gkC"
      }
    },
    {
      "cell_type": "markdown",
      "source": [
        "**Q1.** Find the limit of $\\displaystyle\\lim_{x\\to 0}\\frac{e^x-1}{x^3}$."
      ],
      "metadata": {
        "id": "RdTAF_mk_09e"
      }
    },
    {
      "cell_type": "markdown",
      "source": [
        "**Q2.** Use L'Hopital's rule to evaluate $\\displaystyle\\lim_{x\\to 1^+}[(x-1)tan(\\frac{\\pi}{2}x)]$"
      ],
      "metadata": {
        "id": "tAjUjNC4AFzJ"
      }
    },
    {
      "cell_type": "markdown",
      "source": [
        "**Q3.** Evaluate $\\displaystyle\\lim_{t\\to \\infty}\\frac{ln(3t)}{t^2}$ using L'Hopital's rule."
      ],
      "metadata": {
        "id": "sKHNRQStBDQJ"
      }
    },
    {
      "cell_type": "markdown",
      "source": [
        "**Q4.** Evaluate $\\displaystyle\\lim_{t\\to \\infty}[t~ln(1+\\frac{3}{t})]$ using L'Hopital's rule."
      ],
      "metadata": {
        "id": "TD-8maMKBsyK"
      }
    },
    {
      "cell_type": "code",
      "source": [
        ""
      ],
      "metadata": {
        "id": "lvLH7CBz8cH8"
      },
      "execution_count": null,
      "outputs": []
    }
  ]
}