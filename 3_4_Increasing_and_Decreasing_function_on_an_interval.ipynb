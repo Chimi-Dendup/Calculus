{
  "nbformat": 4,
  "nbformat_minor": 0,
  "metadata": {
    "colab": {
      "name": "3.4 Increasing and Decreasing function on an interval",
      "provenance": [],
      "authorship_tag": "ABX9TyNC7pNa1IawiyEi/TRPV+6B",
      "include_colab_link": true
    },
    "kernelspec": {
      "name": "python3",
      "display_name": "Python 3"
    },
    "language_info": {
      "name": "python"
    }
  },
  "cells": [
    {
      "cell_type": "markdown",
      "metadata": {
        "id": "view-in-github",
        "colab_type": "text"
      },
      "source": [
        "<a href=\"https://colab.research.google.com/github/Chimi-Dendup/Calculus/blob/main/3_4_Increasing_and_Decreasing_function_on_an_interval.ipynb\" target=\"_parent\"><img src=\"https://colab.research.google.com/assets/colab-badge.svg\" alt=\"Open In Colab\"/></a>"
      ]
    },
    {
      "cell_type": "markdown",
      "source": [
        "# **Increasing and Decreasing Function:**"
      ],
      "metadata": {
        "id": "Qjk5DnK6OVTV"
      }
    },
    {
      "cell_type": "markdown",
      "source": [
        "**Increasing and decreasing** are functions in calculus for which the value of $f(x)$ increases and decreases respectively with the increase in the value of $x$. The derivative of the function $f(x)$ is used to check the behavior of increasing and decreasing functions."
      ],
      "metadata": {
        "id": "6Ao8G2RbOdF5"
      }
    },
    {
      "cell_type": "markdown",
      "source": [
        "**Definition:**"
      ],
      "metadata": {
        "id": "VKo1wqGlPa3m"
      }
    },
    {
      "cell_type": "markdown",
      "source": [
        "* **Increasing Function:** A function $f(x)$ is said to be increasing on an interval $I$ if for any two numbers $x$ and $y$ in $I$ such that $x<y,$ we have $f(x)\\leq f(y)$.  \n",
        "\n",
        "* **Decreasing Function:** A function $f(x)$ is said to be decreasing on an interval $I$ if for any two numbers $x$ and $y$ in $I$ such that $x<y,$ we have $f(x)\\geq f(y)$.  \n",
        "\n",
        "* **Strictly Increasing Function:** A function $f(x)$ is said to be strictly increasing on an interval $I$ if for any two numbers $x$ and $y$ in $I$ such that $x<y,$ we have $f(x) < f(y)$.  \n",
        "\n",
        "* **Strictly Decreasing Function:** A function $f(x)$ is said to be strictly decreasing on an interval $I$ if for any two numbers $x$ and $y$ in $I$ such that $x<y,$ we have $f(x) > f(y)$. "
      ],
      "metadata": {
        "id": "5L13wympPg9l"
      }
    },
    {
      "cell_type": "markdown",
      "source": [
        "**Rules to Check Increasing and Decreasing Functions:**"
      ],
      "metadata": {
        "id": "tSxd4YVqT0YW"
      }
    },
    {
      "cell_type": "markdown",
      "source": [
        "We use the derivative of a function to check if it is an increasing or decreasing function. Suppose a function $f(x)$ is differentiable on an open interval $I$, then we have\n",
        "\n",
        "*   If $f'(x)\\geq 0$ on $I$, the function is said to be an increasing function on $I$.\n",
        "*   If $f'(x)\\leq 0$ on $I$, the function is said to be an decreasing function on $I$.\n",
        "\n"
      ],
      "metadata": {
        "id": "V95bCZFeUKQr"
      }
    },
    {
      "cell_type": "markdown",
      "source": [
        "**Example 1:**  Consider $f(x)=x^3$ defined for all real numbers. The derivative of $f(x)$ is \n",
        "$$f'(x)=3x^2$$\n",
        "We know that square of a number is always greater than $0$, therefore we have $f'(x)=3x^2\\geq 0$ $\\forall x$.\n",
        "\n",
        "Hence $f(x)=x^3$ is an increasing function.\n"
      ],
      "metadata": {
        "id": "vec3VOm736yV"
      }
    },
    {
      "cell_type": "markdown",
      "source": [
        "**Properties of Increasing and Decreasing Functions:**"
      ],
      "metadata": {
        "id": "DUuUtz_76FVe"
      }
    },
    {
      "cell_type": "markdown",
      "source": [
        "Let us go through the algebraic properties of increasing and decreasing functions. Let $f$ and $g$ be the functions;\n",
        "\n",
        "* If $f$ and $g$ are increasing(decreasing) functions on an interval $I$, then $f+g$ is also increasing(decreasing) on an interval.\n",
        "\n",
        "* If $f$ is increasing function, then $-f$ will be decreasing function.\n",
        "\n",
        "* If $f$ is increasing(decreasing) function, then inverse function ($f^{-1}$) will be decreasing(increasing).\n",
        "\n",
        "* If $f$ and $g$ are increasing(decreasing) and $f,g\\geq 0$ on an interval $I$, then their product $fg$ will be increasing(decreasing).\n",
        "\n",
        "\n"
      ],
      "metadata": {
        "id": "SJLslCpl6X3h"
      }
    },
    {
      "cell_type": "markdown",
      "source": [
        "**Example 2:** Determine the interval(s) on which $f(x)=xe^{-x}$ is increasing using the rules of increasing and decreasing functions.\n",
        "\n",
        "**Sol:** To determine the interval where $f(x)$ is increasing, let us find the derivative of $f(x)$.\n",
        "\n",
        "$$f(x)=xe^{-x}$$\n",
        "$$f'(x)=e^{-x}-xe^{-x}=e^{-x}(1-x)$$\n",
        "\n",
        "To determine the critical point, equate $f'(x)$ with $0$, that is,\n",
        "$$e^{-x}(1-x)=0\\implies x=1$$\n",
        "[Because exponential cannot be equal to zero]\n",
        "\n",
        "\n",
        "\n",
        "*   For $x<1, (1-x)>0\\implies e^{-x}(1-x)>0$ [Exponential is always positive]\n",
        "*    For $x>1, (1-x)<0\\implies e^{-x}(1-x)<0$ [Exponential is always positive]\n",
        "\n",
        "Hence, we have $f'(x)>0$ for $x<1$. Therefore, the interval where $f(x)=xe^{-x}$ is increasing on $(-\\infty,1)$ and decreasing on $(1,+\\infty)$.\n",
        "\n"
      ],
      "metadata": {
        "id": "8p4O1gFK8XrM"
      }
    },
    {
      "cell_type": "markdown",
      "source": [
        "**Example 3:** Find the intervals where the function is increasing or decreasing $f(x)=x^3-9x^2+24x$."
      ],
      "metadata": {
        "id": "IgTVJ8R1kdeS"
      }
    },
    {
      "cell_type": "markdown",
      "source": [
        "# **Activity:**\n",
        "\n"
      ],
      "metadata": {
        "id": "HDjXRyMcAaIc"
      }
    },
    {
      "cell_type": "markdown",
      "source": [
        "**Q1)** Identify the interval(s) where $\\displaystyle f(x)=\\frac{x}{x^2+1}$ is decreasing. [**Ans.** $(-\\infty, -1 )$ and $(1, \\infty)$]\n",
        "\n",
        "\n"
      ],
      "metadata": {
        "id": "8SYFzZb7BFC2"
      }
    },
    {
      "cell_type": "markdown",
      "source": [
        "**Q2)** Check whether $f(x)=e^x$ is increasing or decreasing."
      ],
      "metadata": {
        "id": "1WzGR4V5Cl4Y"
      }
    }
  ]
}