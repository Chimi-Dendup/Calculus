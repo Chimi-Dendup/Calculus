{
  "nbformat": 4,
  "nbformat_minor": 0,
  "metadata": {
    "colab": {
      "name": "3.3 Rolle's theorem & Lagrange's mean value theorem",
      "provenance": [],
      "collapsed_sections": [
        "Ruu4WRLuANbV",
        "hnMi4B6Da33a"
      ],
      "authorship_tag": "ABX9TyMZ4aG2QdiIToO6xnzF+vBx",
      "include_colab_link": true
    },
    "kernelspec": {
      "name": "python3",
      "display_name": "Python 3"
    },
    "language_info": {
      "name": "python"
    }
  },
  "cells": [
    {
      "cell_type": "markdown",
      "metadata": {
        "id": "view-in-github",
        "colab_type": "text"
      },
      "source": [
        "<a href=\"https://colab.research.google.com/github/Chimi-Dendup/Calculus/blob/main/3_3_Rolle's_theorem_%26_Lagrange's_mean_value_theorem.ipynb\" target=\"_parent\"><img src=\"https://colab.research.google.com/assets/colab-badge.svg\" alt=\"Open In Colab\"/></a>"
      ]
    },
    {
      "cell_type": "markdown",
      "source": [
        "# **Rolle's Theorem & Lagrange's Mean Value Theorem**\n",
        "\n"
      ],
      "metadata": {
        "id": "uJ2pIivhyjU4"
      }
    },
    {
      "cell_type": "markdown",
      "source": [
        "In this section we want to take a look at the Mean Value Theorem.\n",
        "\n",
        "Before we get to the Mean Value Theorem we need to cover the following theorem."
      ],
      "metadata": {
        "id": "ooTjvSu7YIO0"
      }
    },
    {
      "cell_type": "markdown",
      "source": [
        "# **Rolle's Theorem:**"
      ],
      "metadata": {
        "id": "zyWINzI-YJw_"
      }
    },
    {
      "cell_type": "markdown",
      "source": [
        "\n",
        "**Statement:**\n",
        "\n",
        "---\n",
        "Suppose $f(x)$ is a function that satisfies all of the following.\n",
        "\n",
        "\n",
        "1.   $f(x)$ is continuous on the closed interval $[a,b]$.\n",
        "2.   $f(x)$ is differentiable on the open interval $(a,b)$.\n",
        "3.   $f(a)=f(b)$\n",
        "\n",
        "Then there is a number $c$ such that $a<c<b$ and $f'(c)=0$. Or, in other words $f(x)$ has a critical point in $(a,b)$.\n",
        "\n",
        "\n",
        "\n",
        "---\n",
        "\n"
      ],
      "metadata": {
        "id": "CXlO6Y5SYmZF"
      }
    },
    {
      "cell_type": "markdown",
      "source": [
        "**Example:** Determine all the points $'c'$ which satisfy Rolle’s theorem for $f(x)=x^2-2x-8$ on $[-1,3]$.\n",
        "\n",
        "**Solution:**\n",
        "\n",
        "Before finding out the points, we need to make sure that all conditions of Rolle's theorem are applied on this interval. Since the given function is polynomial, so its both differentiable and continuous on the interval. \n",
        "\n",
        "Now let us evaluate the function at the end points of the interval. \n",
        "$$f(-1)=-5$$, and\n",
        "$$f(3)=-5$$\n",
        "Thus, $f(-1)=f(3)$\n",
        "With this we can say that the conditions for Rolle's theorem are satisfied.\n",
        "$$f'(x)=2x-2$$\n",
        "$$\\implies f'(c)=2(c)-2=0$$\n",
        "$$\\implies c=1$$\n"
      ],
      "metadata": {
        "id": "2_i1oCrD-bkQ"
      }
    },
    {
      "cell_type": "markdown",
      "source": [
        "You can verify your answers using `sympy`. Before running the codes for the Rolle's theorem, there are three conditions to be satisfied, otherwise no point of moving forward.\n",
        "\n",
        "\n",
        "\n"
      ],
      "metadata": {
        "id": "KLof8fryGozi"
      }
    },
    {
      "cell_type": "code",
      "source": [
        "import sympy as smp      #Importing the sympy library and defining a function\n",
        "x,c=smp.symbols('x c')\n",
        "f = x**2-2*x-8\n",
        "f"
      ],
      "metadata": {
        "id": "jJGjHDJ7Hmdc",
        "colab": {
          "base_uri": "https://localhost:8080/",
          "height": 38
        },
        "outputId": "9aa1cba7-6207-44d4-d0af-dc69d66edccd"
      },
      "execution_count": null,
      "outputs": [
        {
          "output_type": "execute_result",
          "data": {
            "text/plain": [
              "x**2 - 2*x - 8"
            ],
            "text/latex": "$\\displaystyle x^{2} - 2 x - 8$"
          },
          "metadata": {},
          "execution_count": 5
        }
      ]
    },
    {
      "cell_type": "code",
      "source": [
        "df=smp.diff(f,x) #Derivative of a function w.r.t x\n",
        "df"
      ],
      "metadata": {
        "id": "hONaRZMMIrx_",
        "colab": {
          "base_uri": "https://localhost:8080/",
          "height": 38
        },
        "outputId": "14256169-0728-4896-bf96-67fccbb93ac1"
      },
      "execution_count": null,
      "outputs": [
        {
          "output_type": "execute_result",
          "data": {
            "text/plain": [
              "2*x - 2"
            ],
            "text/latex": "$\\displaystyle 2 x - 2$"
          },
          "metadata": {},
          "execution_count": 2
        }
      ]
    },
    {
      "cell_type": "code",
      "source": [
        "dfc=df.subs(x,c) #f'(c), by the Rolle's theorem\n",
        "dfc"
      ],
      "metadata": {
        "id": "M4U6qCJ9I7Oi",
        "colab": {
          "base_uri": "https://localhost:8080/",
          "height": 38
        },
        "outputId": "2b384384-8f5d-429f-9045-0d130d965a55"
      },
      "execution_count": null,
      "outputs": [
        {
          "output_type": "execute_result",
          "data": {
            "text/plain": [
              "2*c - 2"
            ],
            "text/latex": "$\\displaystyle 2 c - 2$"
          },
          "metadata": {},
          "execution_count": 3
        }
      ]
    },
    {
      "cell_type": "code",
      "source": [
        "smp.solve(dfc) #f'(c)=0, solving for the value of c which lies in the interval [-1,3]"
      ],
      "metadata": {
        "id": "sfd8KlP6JLAR",
        "colab": {
          "base_uri": "https://localhost:8080/"
        },
        "outputId": "c77fd935-6fc8-4f09-a97a-0893a33d9a90"
      },
      "execution_count": null,
      "outputs": [
        {
          "output_type": "execute_result",
          "data": {
            "text/plain": [
              "[1]"
            ]
          },
          "metadata": {},
          "execution_count": 4
        }
      ]
    },
    {
      "cell_type": "markdown",
      "source": [
        "# **Mean value theorem:**"
      ],
      "metadata": {
        "id": "Ruu4WRLuANbV"
      }
    },
    {
      "cell_type": "markdown",
      "source": [
        "**Statement:**\n",
        "\n",
        "\n",
        "---\n",
        "Suppose $f(x)$ is a function that satisfies both of the following.\n",
        "\n",
        "\n",
        "1.   $f(x)$ is continuous on the closed interval $[a,b]$.\n",
        "\n",
        "2.   $f(x)$ is differentiable on the open interval $(a,b)$.\n",
        "\n",
        "Then there is a number $c$ such that $a<c<b$ and \n",
        "$$f'(c)=\\frac{f(b)-f(a)}{b-a}$$\n",
        "\n",
        "or\n",
        "$$f(b)-f(a)=f'(c)(b-a)$$\n",
        "\n",
        "\n",
        "---\n",
        "\n"
      ],
      "metadata": {
        "id": "UbdO3KL4GdKc"
      }
    },
    {
      "cell_type": "markdown",
      "source": [
        "It is also called Lagrange's mean value theorem.\n",
        "\n",
        "**Note:** There can be any number of c-points. The mean Value Theorem is also called First Mean Value Theorem."
      ],
      "metadata": {
        "id": "S_VAxNwVIP9W"
      }
    },
    {
      "cell_type": "markdown",
      "source": [
        "**Example:** Determine all the number(s) $'c'$ which satisfy the conclusion of Mean Value Theorem for $f(x)=4x^3-8x^2+7x-2$ on $[2,5]$.\n",
        "\n",
        "**Solution:**\n",
        "\n",
        "Since the function is a polynomial, so it is continuous and differentiable both in this interval. Thus mean value theorem can be applied here. \n",
        "\n",
        "$f(2)=12$, $f(5)=333$, and $f'(x)=12x^2-16x+7$\n",
        "\n",
        "Now plug this into the formula of mean value theorem and solve for $c$. \n",
        "$$12c^2-16c+7=\\frac{333-12}{5-2}=107$$\n",
        "$$\\implies 12c^2-16c-100=0$$\n",
        "$$c=\\frac{2+\\sqrt{79}}{3}, \\frac{2-\\sqrt{79}}{3}$$\n"
      ],
      "metadata": {
        "id": "-8zmDlVBIevB"
      }
    },
    {
      "cell_type": "markdown",
      "source": [
        "# **Activity:**"
      ],
      "metadata": {
        "id": "hnMi4B6Da33a"
      }
    },
    {
      "cell_type": "markdown",
      "source": [
        "**Q1:** Determine all the number(s) $'c '$ which satisfy the conclusion of Mean Value Theorem in the interval for $f(t)=8t+e^{-3t}$ on $[-2,3]$."
      ],
      "metadata": {
        "id": "pxEzrvQWa8Bw"
      }
    },
    {
      "cell_type": "markdown",
      "source": [
        "**Q2:** Determine all the points $'c'$ which satisfy rolle’s theorem for $f(x)=2x-x^2-x^3$ on the interval $[-2,1]$."
      ],
      "metadata": {
        "id": "ZPMyW-qibpB0"
      }
    },
    {
      "cell_type": "code",
      "source": [
        ""
      ],
      "metadata": {
        "id": "QVBtwlK2XMm3"
      },
      "execution_count": null,
      "outputs": []
    },
    {
      "cell_type": "code",
      "source": [
        ""
      ],
      "metadata": {
        "id": "Nr5-UO0PXNe7"
      },
      "execution_count": null,
      "outputs": []
    }
  ]
}