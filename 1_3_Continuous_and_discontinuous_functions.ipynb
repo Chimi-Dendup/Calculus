{
  "nbformat": 4,
  "nbformat_minor": 0,
  "metadata": {
    "colab": {
      "name": "1.3 Continuous and discontinuous functions",
      "provenance": [],
      "authorship_tag": "ABX9TyPyAyM+IhLXamGwK4WkkwX1",
      "include_colab_link": true
    },
    "kernelspec": {
      "name": "python3",
      "display_name": "Python 3"
    },
    "language_info": {
      "name": "python"
    }
  },
  "cells": [
    {
      "cell_type": "markdown",
      "metadata": {
        "id": "view-in-github",
        "colab_type": "text"
      },
      "source": [
        "<a href=\"https://colab.research.google.com/github/Chimi-Dendup/Calculus/blob/main/1_3_Continuous_and_discontinuous_functions.ipynb\" target=\"_parent\"><img src=\"https://colab.research.google.com/assets/colab-badge.svg\" alt=\"Open In Colab\"/></a>"
      ]
    },
    {
      "cell_type": "markdown",
      "source": [
        "# **Continuous function & Discontinuous function:**"
      ],
      "metadata": {
        "id": "o0_em02W1hsN"
      }
    },
    {
      "cell_type": "markdown",
      "source": [
        "**Definition 1:**\n",
        "\n",
        "A function is said to be **continuous** at a point $a$ if the following statements hold:\n",
        "\n",
        "\n",
        "*   the function $f$ is defined at $a$\n",
        "*   the limit $\\displaystyle\\lim_{x\\to a}f(x)$ exists\n",
        "*   the limit is equal to $f(a)$, $\\displaystyle\\lim_{x\\to a}f(x) = f(a)$\n",
        "\n",
        "**For example**, $f(x) = x^2+1$ is continuous at $x=2$ since $\\displaystyle\\lim_{x\\to 2}f(x)=5=f(2)$. The first condition above implies that a function can be continuous only at points of its domain. Thus, $f(x)=\\sqrt{4-x^2}$ is not continuous at $x=3$ because $f(3)$ is imaginary, i.e., is not defined. \n",
        "\n"
      ],
      "metadata": {
        "id": "18LZyT8512lx"
      }
    },
    {
      "cell_type": "markdown",
      "source": [
        "**Definition 2:**\n",
        "\n",
        "A function $f$ is said to be **continuous** on a closed interval $[a,b]$ if the function that restricts $f$ to $[a,b]$ is continuous at each point of $[a,b];$ in other words, we ignore what happens to the left of $a$ and to the right of $b$.\n",
        "\n",
        "Continuity of a function can also be expressed more compactly by the statement: $f(x)\\to f(a)$ as $f\\to a$."
      ],
      "metadata": {
        "id": "R4FvufA75b73"
      }
    },
    {
      "cell_type": "markdown",
      "source": [
        "**Definition 3:**\n",
        "\n",
        "A function $f(x)$ is **discontinuous** at $x=a$ if one or more of the condition for continuity fails there.\n",
        "\n",
        "**For example,** $f(x)=\\frac{1}{x-2}$ is discontinuous at $x=2$ because $f(2)$ is not defined(has zero as denominator) and because $\\displaystyle\\lim_{x\\to 2}f(x)$ does not exists (equals $\\infty$).\n",
        "\n",
        "\n",
        "$f(x)=\\frac{x^2-4}{x-2}$ is discontinuous at $x=2$ because $f(2)$ is not defined (both numerator and denominator are zero) and because $\\displaystyle\\lim_{x\\to 2}f(x)=4.$ The discontinuity here is called **removable** since it may be removed by redefining the function as $f(x)=\\frac{x^2-4}{x-2}$ for $x\\neq 2; f(2)=4.$"
      ],
      "metadata": {
        "id": "zSr9dG4k8IDX"
      }
    },
    {
      "cell_type": "markdown",
      "source": [
        "Some examples of functions with discontinuity at particular points include:\n",
        "\n",
        "$$f(x)=\\frac{1}{x^2}, f(x)=\\frac{x+4}{(x-1)(x-8)}, f(x)=\\frac{1}{x-1}$$"
      ],
      "metadata": {
        "id": "uUMdTEaAAuC1"
      }
    },
    {
      "cell_type": "markdown",
      "source": [
        "We can plot these functions to get a better understanding of where the discontinuity lay."
      ],
      "metadata": {
        "id": "Ios88khaBZiM"
      }
    },
    {
      "cell_type": "code",
      "source": [
        "import numpy as np\n",
        "import matplotlib.pyplot as plt"
      ],
      "metadata": {
        "id": "YXjQotU5AWJ3"
      },
      "execution_count": null,
      "outputs": []
    },
    {
      "cell_type": "code",
      "source": [
        "def f1(x):\n",
        "    return 1.0 / x ** 2\n",
        "\n",
        "def f2(x):\n",
        "    return (x + 4) / ((x - 1) * (x - 8))\n",
        "\n",
        "def f3(x):\n",
        "    return 1 / (x - 1)\n",
        "\n",
        "fx1 = np.linspace(-2, 2, 1000)\n",
        "fx2 = np.linspace(6, 10, 100)\n",
        "fx3 = np.linspace(0, 2, 100)\n",
        "\n",
        "plt.figure(figsize=(14,5))\n",
        "plt.subplot(131)\n",
        "plt.plot(fx1, f1(fx1), fx1, f1(fx1))\n",
        "plt.xlim([-1, 1])\n",
        "plt.ylim([-500, 9500])\n",
        "\n",
        "plt.subplot(132)\n",
        "plt.plot(fx2, f2(fx2), fx2, f2(fx2))\n",
        "\n",
        "plt.subplot(133)\n",
        "plt.plot(fx3, f3(fx3), fx3, f3(fx3))\n",
        "\n",
        "plt.show()"
      ],
      "metadata": {
        "id": "sAbG4iAVBob5",
        "colab": {
          "base_uri": "https://localhost:8080/",
          "height": 320
        },
        "outputId": "e359b87f-6fb2-43eb-9c51-a938948376d5"
      },
      "execution_count": null,
      "outputs": [
        {
          "output_type": "display_data",
          "data": {
            "image/png": "[encoded data removed]",
            "text/plain": [
              "<Figure size 1008x360 with 3 Axes>"
            ]
          },
          "metadata": {
            "needs_background": "light"
          }
        }
      ]
    },
    {
      "cell_type": "markdown",
      "source": [
        "Although `matplotlib` plots the line without any breaks, we see each graph has a point where the lines blow up and quickly approaches infinity in either the positive or negative direction."
      ],
      "metadata": {
        "id": "Z-zNfarnDzys"
      }
    },
    {
      "cell_type": "markdown",
      "source": [
        "All polynomials are continuous anywhere in range $(-\\infty,\\infty)$. Also, any rational function, which has the form $\\frac{P(x)}{Q(x)}$ is continuous everywhere except for when $Q(x)=0$."
      ],
      "metadata": {
        "id": "gNQVYn8fEHsY"
      }
    },
    {
      "cell_type": "markdown",
      "source": [
        "Knowing the continuity of a function helps evaluate limits much quicker. For example, consider the function:\n",
        "\n",
        "$$\\lim_{x\\to 4}\\frac{5+\\sqrt{x}}{\\sqrt{5+x}}$$\n",
        "\n",
        "The function is rational, thus we know it is continuous everywhere except when $Q(x)=0$. Thus, $x\\neq −5$ and we can solve the limit directly:\n",
        "\n",
        "$$\\lim_{x\\to 4}\\frac{5+\\sqrt{x}}{\\sqrt{5+x}}=\\lim_{x\\to 4}f(x)=f(4)$$\n",
        "$$=\\frac{5+\\sqrt{4}}{\\sqrt{5+4}}=\\frac{7}{3}$$\n"
      ],
      "metadata": {
        "id": "c92-3JceEhGW"
      }
    },
    {
      "cell_type": "code",
      "source": [
        "import sympy as smp\n",
        "from sympy import *\n",
        "x = smp.symbols('x')\n",
        "f = (5+x**(0.5))/(5+x)**0.5"
      ],
      "metadata": {
        "id": "WcvU0ypHB6JQ"
      },
      "execution_count": null,
      "outputs": []
    },
    {
      "cell_type": "code",
      "source": [
        "smp.limit((5+x**(0.5))/(5+x)**0.5,x,4,dir='+') #Right hand limit"
      ],
      "metadata": {
        "id": "BcTeNKuCGGv-",
        "colab": {
          "base_uri": "https://localhost:8080/",
          "height": 37
        },
        "outputId": "a187d718-af61-47b5-bebf-7ac3b42c30ac"
      },
      "execution_count": null,
      "outputs": [
        {
          "output_type": "execute_result",
          "data": {
            "text/latex": "$\\displaystyle 2.33333333333333$",
            "text/plain": [
              "2.33333333333333"
            ]
          },
          "metadata": {},
          "execution_count": 16
        }
      ]
    },
    {
      "cell_type": "code",
      "source": [
        "smp.limit((5+x**(0.5))/(5+x)**0.5,x,4,dir='-') #Left hand limit"
      ],
      "metadata": {
        "id": "BEu_zCaIGSUA",
        "colab": {
          "base_uri": "https://localhost:8080/",
          "height": 37
        },
        "outputId": "5614607d-1db6-4901-a5a3-118c4a5d53d4"
      },
      "execution_count": null,
      "outputs": [
        {
          "output_type": "execute_result",
          "data": {
            "text/latex": "$\\displaystyle 2.33333333333333$",
            "text/plain": [
              "2.33333333333333"
            ]
          },
          "metadata": {},
          "execution_count": 17
        }
      ]
    },
    {
      "cell_type": "code",
      "source": [
        "f.subs(x,4) #Function value"
      ],
      "metadata": {
        "id": "RNXITbIPHcW0",
        "colab": {
          "base_uri": "https://localhost:8080/",
          "height": 37
        },
        "outputId": "eaf3f92e-c922-4021-d43e-e4a6f36e51b9"
      },
      "execution_count": null,
      "outputs": [
        {
          "output_type": "execute_result",
          "data": {
            "text/latex": "$\\displaystyle 2.33333333333333$",
            "text/plain": [
              "2.33333333333333"
            ]
          },
          "metadata": {},
          "execution_count": 18
        }
      ]
    },
    {
      "cell_type": "markdown",
      "source": [
        "Since $\\displaystyle\\lim_{x\\to 4^-}f(x)=\\displaystyle\\lim_{x\\to 4^+}f(x)$, the limit exists and also since $\\displaystyle\\lim_{x\\to 4^-}f(x)=\\displaystyle\\lim_{x\\to 4^+}f(x)=f(4)$, the function is continuous.\n",
        "\n"
      ],
      "metadata": {
        "id": "cTMqrTc3HMB1"
      }
    },
    {
      "cell_type": "markdown",
      "source": [
        "# **Activity:**"
      ],
      "metadata": {
        "id": "FS_3FSlL-8Jb"
      }
    },
    {
      "cell_type": "markdown",
      "source": [
        "\n",
        "\n",
        "1.  Show whether the following function is continuous or discontinuous at $x=3$.\n",
        "$$f(x)=\\begin{cases} \n",
        "      x-1, & x<3 \\\\\n",
        "      2x+1, & x\\geq 3\n",
        "   \\end{cases}$$"
      ],
      "metadata": {
        "id": "UdjXeB9RKK5f"
      }
    },
    {
      "cell_type": "markdown",
      "source": [
        "2. Investigate continuity of the function\n",
        "$$f(x)=3^{\\frac{x}{1-x^2}}$$"
      ],
      "metadata": {
        "id": "6VG-cAn8MjB7"
      }
    },
    {
      "cell_type": "markdown",
      "source": [
        "3. Investigate continuity of the function\n",
        "\n",
        "**(i)**   $$\\displaystyle\\lim_{x\\to 0}\\frac{4x}{sin(3x)}$$\n",
        "\n",
        "\n",
        "\n",
        "\n",
        "\n",
        "\n",
        "\n"
      ],
      "metadata": {
        "id": "Dm_nM2rhOxq2"
      }
    },
    {
      "cell_type": "markdown",
      "source": [
        "**(ii)**   $$\\displaystyle\\lim_{x\\to 0}\\frac{sin(5x)-sin(3x)}{sin(x)}$$\n",
        "\n"
      ],
      "metadata": {
        "id": "maeSYRNkPbWW"
      }
    },
    {
      "cell_type": "markdown",
      "source": [
        "# **Intermediate Value Theorem:**"
      ],
      "metadata": {
        "id": "sk801zzjLnYO"
      }
    },
    {
      "cell_type": "markdown",
      "source": [
        "**Theorem Statement:**\n",
        "\n",
        "The *Intermediate Value Theorem* states that if a function $f$ is continuous in a closed interval $[a,b]$ and $n$ is a number between $f(a)$ and $f(b)$ (where $f(a)\\neq f(b))$, then there exists a number $c$ in the interval $(a,b)$ such that $f(c)=n$.\n",
        "\n",
        "The Intermediate Value Theorem can be applied when locating the root of an equation. \n",
        "\n",
        "**For example**, we can locate the root of the following equation within the interval $[1,2]$ (should one exist).\n",
        "\n",
        "$$x^4+x-3=0$$"
      ],
      "metadata": {
        "id": "MGQeYbTpIh1x"
      }
    },
    {
      "cell_type": "markdown",
      "source": [
        "Determining the root of the above equation:"
      ],
      "metadata": {
        "id": "n5Fc3FiwK1XI"
      }
    },
    {
      "cell_type": "code",
      "source": [
        "from sympy import symbols, solve\n",
        "\n",
        "x = symbols('x')\n",
        "expr = x**4+x-3"
      ],
      "metadata": {
        "id": "JaKDPKR2Lu9o"
      },
      "execution_count": null,
      "outputs": []
    },
    {
      "cell_type": "code",
      "source": [
        "sol = solve(expr)\n",
        "sol"
      ],
      "metadata": {
        "id": "rYuI5JQNJ8Px",
        "colab": {
          "base_uri": "https://localhost:8080/"
        },
        "outputId": "0d38c73b-2c26-4cdc-88da-40b689cd2d8f"
      },
      "execution_count": null,
      "outputs": [
        {
          "output_type": "execute_result",
          "data": {
            "text/plain": [
              "[-sqrt(-2/(1/16 + sqrt(257)/16)**(1/3) + 2*(1/16 + sqrt(257)/16)**(1/3))/2 + sqrt(-2*(1/16 + sqrt(257)/16)**(1/3) + 2/(1/16 + sqrt(257)/16)**(1/3) + 2/sqrt(-2/(1/16 + sqrt(257)/16)**(1/3) + 2*(1/16 + sqrt(257)/16)**(1/3)))/2,\n",
              " sqrt(-2/(1/16 + sqrt(257)/16)**(1/3) + 2*(1/16 + sqrt(257)/16)**(1/3))/2 - sqrt(-2/sqrt(-2/(1/16 + sqrt(257)/16)**(1/3) + 2*(1/16 + sqrt(257)/16)**(1/3)) - 2*(1/16 + sqrt(257)/16)**(1/3) + 2/(1/16 + sqrt(257)/16)**(1/3))/2,\n",
              " sqrt(-2/(1/16 + sqrt(257)/16)**(1/3) + 2*(1/16 + sqrt(257)/16)**(1/3))/2 + sqrt(-2/sqrt(-2/(1/16 + sqrt(257)/16)**(1/3) + 2*(1/16 + sqrt(257)/16)**(1/3)) - 2*(1/16 + sqrt(257)/16)**(1/3) + 2/(1/16 + sqrt(257)/16)**(1/3))/2,\n",
              " -sqrt(-2*(1/16 + sqrt(257)/16)**(1/3) + 2/(1/16 + sqrt(257)/16)**(1/3) + 2/sqrt(-2/(1/16 + sqrt(257)/16)**(1/3) + 2*(1/16 + sqrt(257)/16)**(1/3)))/2 - sqrt(-2/(1/16 + sqrt(257)/16)**(1/3) + 2*(1/16 + sqrt(257)/16)**(1/3))/2]"
            ]
          },
          "metadata": {},
          "execution_count": 20
        }
      ]
    },
    {
      "cell_type": "markdown",
      "source": [
        "Plotting the function first can help us determine if there is a root in the given interval."
      ],
      "metadata": {
        "id": "_XrFyuXULAwS"
      }
    },
    {
      "cell_type": "code",
      "source": [
        "import numpy as np\n",
        "import matplotlib.pyplot as plt"
      ],
      "metadata": {
        "id": "68CN0fbCJ-QB"
      },
      "execution_count": null,
      "outputs": []
    },
    {
      "cell_type": "code",
      "source": [
        "def f4(x):\n",
        "    return x ** 4 + x - 3\n",
        "\n",
        "xvals = np.linspace(1, 2, 100)\n",
        "y1 = (0, 0)\n",
        "\n",
        "plt.plot(xvals, f4(xvals))\n",
        "plt.plot((0, 1.15), (0, 0), 'r--')\n",
        "plt.plot((1.15, 1.15), (0,-5), 'r--')\n",
        "\n",
        "plt.xlim([1, 2])\n",
        "plt.ylim([-5, 15])\n",
        "plt.show()"
      ],
      "metadata": {
        "id": "uXiD8fDlLjg8",
        "colab": {
          "base_uri": "https://localhost:8080/",
          "height": 269
        },
        "outputId": "6037832f-71c7-445b-d960-9a7843c6047a"
      },
      "execution_count": null,
      "outputs": [
        {
          "output_type": "display_data",
          "data": {
            "image/png": "[encoded data removed]",
            "text/plain": [
              "<Figure size 432x288 with 1 Axes>"
            ]
          },
          "metadata": {
            "needs_background": "light"
          }
        }
      ]
    },
    {
      "cell_type": "markdown",
      "source": [
        "It appears the equation does have a root located in the interval $[1,2]$. We can also show this with the Intermediate Value Theorem, we take $a=1$, $b=2$ and $n=0$:\n",
        "\n",
        "$$f(1)=(1)^4+(1)−3=−1<0$$\n",
        "$$f(2)=(2)^4+(1)−3=14>0$$"
      ],
      "metadata": {
        "id": "f1RyYggXLzoq"
      }
    },
    {
      "cell_type": "markdown",
      "source": [
        "Therefore, $f(1)<0<f(2)$ and $n$ is a number between $f(1)$ and $f(2)$. We can get a more accurate interval of where the root is located by setting a tighter interval around the location of the root and applying the Intermediate Value Theorem. Judging by the graph, the root appears to be located in the interval $[1.1,1.2]$, which we can verify by setting $a=1.1, b=1.2$ and $n=0$."
      ],
      "metadata": {
        "id": "MOe5GntdMu9w"
      }
    },
    {
      "cell_type": "code",
      "source": [
        "(f4(1.1), f4(1.2))"
      ],
      "metadata": {
        "id": "zT2CYOxgLHar",
        "colab": {
          "base_uri": "https://localhost:8080/"
        },
        "outputId": "c7c1bb86-d6ec-4833-f551-6d2a13c0e335"
      },
      "execution_count": null,
      "outputs": [
        {
          "output_type": "execute_result",
          "data": {
            "text/plain": [
              "(-0.4358999999999993, 0.27360000000000007)"
            ]
          },
          "metadata": {},
          "execution_count": 23
        }
      ]
    },
    {
      "cell_type": "markdown",
      "source": [
        "Thus, we now know the root is located in the interval $[−0.44,0.27]$."
      ],
      "metadata": {
        "id": "zveC-tMWN-8C"
      }
    },
    {
      "cell_type": "markdown",
      "source": [
        "# **Practice problems:**\n"
      ],
      "metadata": {
        "id": "u-6RBm49R8_e"
      }
    },
    {
      "cell_type": "markdown",
      "source": [
        "Find the limit and probe the existence of a limit:"
      ],
      "metadata": {
        "id": "rOyH34x5StaG"
      }
    },
    {
      "cell_type": "markdown",
      "source": [
        "1. $\\displaystyle\\lim_{x\\to 2\\pi^-}(x)csc(x)$"
      ],
      "metadata": {
        "id": "EsjUqLpMSs0K"
      }
    },
    {
      "cell_type": "markdown",
      "source": [
        "2. $\\displaystyle\\lim_{x\\to \\pi^-}cot(x)$"
      ],
      "metadata": {
        "id": "tFIfqRWFUL-7"
      }
    },
    {
      "cell_type": "markdown",
      "source": [
        "3. $\\displaystyle\\lim_{x\\to 2^-}\\frac{x^2-2x}{x^2-4x+4}$"
      ],
      "metadata": {
        "id": "zVGqjF1HUXEa"
      }
    },
    {
      "cell_type": "markdown",
      "source": [
        "4. $\\displaystyle\\lim_{x\\to \\infty}(\\sqrt{x^2+ax}-\\sqrt{x^2+bx})$"
      ],
      "metadata": {
        "id": "dh0qV8ytUmqI"
      }
    },
    {
      "cell_type": "markdown",
      "source": [
        "5. $\\displaystyle\\lim_{x\\to \\infty}\\frac{sin^2(x)}{x^2}$"
      ],
      "metadata": {
        "id": "7YRkrUT9U3Nf"
      }
    },
    {
      "cell_type": "markdown",
      "source": [
        "6. $\\displaystyle\\lim_{t\\to \\infty}\\frac{t-t\\displaystyle\\sqrt{t}}{2t^{\\frac{3}{2}}+3t-5}$"
      ],
      "metadata": {
        "id": "MwHyX9irVVFm"
      }
    },
    {
      "cell_type": "markdown",
      "source": [
        "7. Locate the root of the function using Intermediate Value Theorem(IVT):\n",
        "$$f(x)=3x^5-5x^3+2x$$"
      ],
      "metadata": {
        "id": "WFX3S5SLVzMR"
      }
    }
  ]
}