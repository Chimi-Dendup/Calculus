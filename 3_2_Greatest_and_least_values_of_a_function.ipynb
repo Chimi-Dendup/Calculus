{
  "nbformat": 4,
  "nbformat_minor": 0,
  "metadata": {
    "colab": {
      "name": "3.2 Greatest and least values of a function",
      "provenance": [],
      "authorship_tag": "ABX9TyPxXH8rUyHFhgYZkhLl86qJ",
      "include_colab_link": true
    },
    "kernelspec": {
      "name": "python3",
      "display_name": "Python 3"
    },
    "language_info": {
      "name": "python"
    }
  },
  "cells": [
    {
      "cell_type": "markdown",
      "metadata": {
        "id": "view-in-github",
        "colab_type": "text"
      },
      "source": [
        "<a href=\"https://colab.research.google.com/github/Chimi-Dendup/Calculus/blob/main/3_2_Greatest_and_least_values_of_a_function.ipynb\" target=\"_parent\"><img src=\"https://colab.research.google.com/assets/colab-badge.svg\" alt=\"Open In Colab\"/></a>"
      ]
    },
    {
      "cell_type": "markdown",
      "source": [
        "# **Greatest and Least Value of a Function:**"
      ],
      "metadata": {
        "id": "XPs3kSNy6eGM"
      }
    },
    {
      "cell_type": "markdown",
      "source": [
        "To find the **greatest** and **least** value of the function over the domain $a\\leq x\\leq b$.\n",
        "\n",
        "There are three steps to be followed;\n",
        "\n",
        "**Step 1:** Calculate the value of $f(x)$ at end values.\n",
        "\n",
        "**Step 2:** Find turning points(TP's) using $f'(x)=0$ over the domain and calculate values of $f(x)$ at those TP's.\n",
        "\n",
        "**Step 3:** Decide the greatest and least.\n"
      ],
      "metadata": {
        "id": "g6lSN4n75bUr"
      }
    },
    {
      "cell_type": "markdown",
      "source": [
        "**Example:** Find the greatest and least value of the function $f(x)=x^2-4x-4$ over the domain $-2\\leq x\\leq 3$.\n",
        "\n",
        "The function value at the end points are\n",
        "$$f(-2)=(-2)^2-4(-2)-4=8$$\n",
        "$$f(3)=(3)^2-4(3)-4=-7$$\n",
        "\n",
        "Now, to find the turning points; we have to take derivative of $f(x)$ with respect to $x$.\n",
        "$$f'(x)=2x-4=0$$\n",
        "$$\\implies x=\\frac{4}{2}=2$$\n",
        "\n",
        "So, the function value at $x=2$ is\n",
        "$$f(2)=(2)^2-4(2)-4=-8$$\n",
        "\n",
        "Thus, the greatest value is $8$ at $x=-2$, and least value is $-8$ at $x=2$.\n",
        "\n",
        "\n",
        "\n"
      ],
      "metadata": {
        "id": "pKYKPzpf6ZOe"
      }
    },
    {
      "cell_type": "markdown",
      "source": [
        "# **Activity:**"
      ],
      "metadata": {
        "id": "OLQs0l48JIrX"
      }
    },
    {
      "cell_type": "markdown",
      "source": [
        "**Q1:** Find the greatest and least value of the function $f(x)=x^{\\frac{1}{2}}-x^{\\frac{3}{2}}$ in the interva $[0,4]$."
      ],
      "metadata": {
        "id": "6p0AeRuDKOZR"
      }
    },
    {
      "cell_type": "markdown",
      "source": [
        "**Q2:** Find the greatest and least value of the function $f(x)=\\frac{1}{x(1-x)}$ in the interva $[2,3]$."
      ],
      "metadata": {
        "id": "9pjLEC-tMR9R"
      }
    },
    {
      "cell_type": "markdown",
      "source": [
        "**Q3:** Find the greatest and least value of the function $f(x)=3x^4-8x^3+12x^2-48x+25$ in the interva $[0,3]$."
      ],
      "metadata": {
        "id": "yomCWRfxMdjC"
      }
    }
  ]
}