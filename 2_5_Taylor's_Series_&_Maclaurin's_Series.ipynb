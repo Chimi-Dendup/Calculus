{
  "nbformat": 4,
  "nbformat_minor": 0,
  "metadata": {
    "colab": {
      "name": "2.5 Taylor's Series & Maclaurin's Series",
      "provenance": [],
      "authorship_tag": "ABX9TyOpi/vrWEFg2gqYD+VdxtFC",
      "include_colab_link": true
    },
    "kernelspec": {
      "name": "python3",
      "display_name": "Python 3"
    },
    "language_info": {
      "name": "python"
    }
  },
  "cells": [
    {
      "cell_type": "markdown",
      "metadata": {
        "id": "view-in-github",
        "colab_type": "text"
      },
      "source": [
        "<a href=\"https://colab.research.google.com/github/Chimi-Dendup/Calculus/blob/main/2_5_Taylor's_Series_%26_Maclaurin's_Series.ipynb\" target=\"_parent\"><img src=\"https://colab.research.google.com/assets/colab-badge.svg\" alt=\"Open In Colab\"/></a>"
      ]
    },
    {
      "cell_type": "markdown",
      "source": [
        "# **Taylor Series & Maclaurin's Series:**"
      ],
      "metadata": {
        "id": "lYiXtiueFrIi"
      }
    },
    {
      "cell_type": "markdown",
      "source": [
        "Here, what we need to do is come up with a more general method for writing a power series representation for a function.\n",
        "\n",
        "So, for the time being, let’s make **two** assumptions. \n",
        "\n",
        "\n",
        "1.   First, let’s assume that the function $f(x)$ does in fact have a power series representation about $x=a,$\n",
        "$$f(x)=\\displaystyle\\sum_{n=0}^\\infty C_n(x-a)^n=C_0+C_1(x-a)+C_2(x-a)^2+C_3(x-a)^3+...$$\n",
        "2.   Next, we will need to assume that the function, $f(x)$, has derivatives of every order and that we can in fact find them all.\n",
        "\n"
      ],
      "metadata": {
        "id": "8QIALR2lIYaI"
      }
    },
    {
      "cell_type": "markdown",
      "source": [
        "Now we've assumed an existence of power series representation of a function.\n",
        "\n",
        "Our next goal is to determine the coefficients, $C_n$. This is easier than it might at first appear to be.\n",
        "\n",
        " Let’s first just evaluate everything at $x=a$. This gives,\n",
        " $$f(a)=C_0$$\n",
        " Unfortunately, we dont have any other values of $x$ to determine the remaining values of $C_n.$ However, if we take the derivative of a function and plugging in $x=a$, we get\n",
        " $$f'(x)= C_1+2C_2(x-a)+3C_3(x-a)^2+....$$\n",
        " $$f'(a)=C_1$$\n",
        "\n",
        " Let’s continue with this idea and find the second derivative.\n",
        " $$f''(x)=2C_2+3(2)C_3(x-a)+4(3)C_4(x-a)^2+...$$\n",
        " $$C_2=\\frac{f''(a)}{2(1)}=\\frac{f''(a)}{2!}$$\n",
        "\n",
        "Using the third derivative gives,\n",
        "$$f'''(x)=3(2)C_3+4(3)C_4(x-a)+...$$\n",
        " $$C_3=\\frac{f'''(a)}{3(2)}=\\frac{f'''(a)}{3!}$$\n",
        "\n",
        " Hopefully by this time you’ve seen the pattern here. It looks like, in general, we’ve got the following formula for the coefficients.\n",
        " $$C_n=\\frac{f^{(n)}(a)}{n!}$$\n",
        "\n",
        " This even works for $n=0$ if you recall that $0!=1$ and define $f^{(0)}(x)=f(x)$ \n",
        "\n",
        "\n"
      ],
      "metadata": {
        "id": "rKpPcxPjKlF-"
      }
    },
    {
      "cell_type": "markdown",
      "source": [
        "The **Taylor Series** for $f(x)$ about $x=a$ is,"
      ],
      "metadata": {
        "id": "6dQRcTHXXubK"
      }
    },
    {
      "cell_type": "markdown",
      "source": [
        "\n",
        "\n",
        "**Taylor Series**\n",
        "\n",
        "---\n",
        "\n",
        "$$f(x)=\\displaystyle\\sum_{n=0}^\\infty\\frac{f^{(n)}(a)}{n!}(x-a)^n$$\n",
        "$$=f(a)+f'(a)(x-a)+\\frac{f''(a)}{2!}(x-a)^2+\\frac{f'''(a)}{3!}(x-a)^3+....$$\n",
        "\n",
        "---\n",
        "\n"
      ],
      "metadata": {
        "id": "-RMXzEf3QJRk"
      }
    },
    {
      "cell_type": "markdown",
      "source": [
        "If we use $a=0$, so we are talking about the Taylor series about $x=0$, we call the series a **Maclaurin Series** for $f(x)$ or,"
      ],
      "metadata": {
        "id": "i-iTSxGaWFAB"
      }
    },
    {
      "cell_type": "markdown",
      "source": [
        "**Maclaurin Series**\n",
        "\n",
        "\n",
        "---\n",
        "\n",
        "$$f(x)=\\displaystyle\\sum_{n=0}^\\infty\\frac{f^{(n)}(0)}{n!}x^n$$\n",
        "$$=f(0)+f'(0)x+\\frac{f''(0)}{2!}x^2+\\frac{f'''(0)}{3!}x^3+....$$\n",
        "\n",
        "---\n",
        "\n",
        "\n"
      ],
      "metadata": {
        "id": "_K94BKQkW4Mp"
      }
    },
    {
      "cell_type": "markdown",
      "source": [
        "****Example:****"
      ],
      "metadata": {
        "id": "p5V0niLoSKmR"
      }
    },
    {
      "cell_type": "markdown",
      "source": [
        "**Ex1:** Find the Taylor Series for $f(x)=e^{x}$ about $x=0.$\n",
        "\n",
        "To find the Taylor Series for a function we will need to determine a general formula for $f^{(n)}(a)$. This is one of the few functions where this is easy to do right from the start.\n",
        "\n",
        "To get a formula for $f^{(n)}(0)$ all we need to do is recognize that,\n",
        "$$f^{(n)}(x)=e^x, n=0,1,2,3,.....$$\n",
        "and so, $$f^{(n)}(0)=e^0=1, n=0,1,2,3,.....$$\n",
        "Therefore, the Taylor series for $f(x)=e^x$ about $x=0$ is, \n",
        "$$e^x=\\sum_{n=0}^{\\infty}\\frac{1}{n!}x^n=\\sum_{n=0}^{\\infty}\\frac{x^n}{n!}=1+x+\\frac{x^2}{2!}+\\frac{x^3}{3!}+...$$"
      ],
      "metadata": {
        "id": "e9ubGmhkSbnE"
      }
    },
    {
      "cell_type": "markdown",
      "source": [
        "Taylor series approximation of $e^x$ in Python."
      ],
      "metadata": {
        "id": "Yi_-UMnV9zGM"
      }
    },
    {
      "cell_type": "code",
      "source": [
        "import math\n",
        "\n",
        "x = 5\n",
        "e_to_0 = 0\n",
        "for i in range(20):\n",
        "    e_to_0 += x**i/math.factorial(i)\n",
        "    \n",
        "print(e_to_0)"
      ],
      "metadata": {
        "id": "4-muXMLO7bUw",
        "outputId": "c2d1eab7-9229-4347-ca94-a4179c3d22cd",
        "colab": {
          "base_uri": "https://localhost:8080/"
        }
      },
      "execution_count": null,
      "outputs": [
        {
          "output_type": "stream",
          "name": "stdout",
          "text": [
            "148.4131078683383\n"
          ]
        }
      ]
    },
    {
      "cell_type": "markdown",
      "source": [
        "**Ex2:** Find the Taylor Series for $f(x)=cos(x)$ about $x=0.$\n",
        "\n",
        "First, we’ll need to take some derivatives of the function and evaluate them at $x=0$\n",
        "$$f^{(0)}(x)=cos(x)\\implies f^{(0)}(0)=1$$\n",
        "$$~~f^{(1)}(x)=-sin(x)\\implies f^{(1)}(0)=0$$\n",
        "$$~~~~f^{(2)}(x)=-cos(x)\\implies f^{(2)}(0)=-1$$\n",
        "$$f^{(3)}(x)=sin(x)\\implies f^{(3)}(0)=0$$\n",
        "....\n",
        "\n",
        " So, let’s plug what we’ve got into the Taylor series and see what we get,\n",
        "$$cos(x)=\\sum_{n=0}^{\\infty}\\frac{f^{(n)}(0)}{n!}x^n$$\n",
        "$$=f(0)+f'(0)x+\\frac{f''(0)}{2!}x^2+\\frac{f'''(0)}{3!}x^3+....$$\n",
        "$$=1+0\\times x-\\frac{1}{2!}x^2+0\\times x^3+....$$\n",
        "$$=1-\\frac{1}{2!}x^2+....$$\n",
        "\n",
        "So, we only pick up terms with even powers on the \n",
        "$x$'s. Thus, the general formula for the Taylor series approximation of $cos(x)$ is\n",
        "$$cos(x)=\\sum_{n=0}^{\\infty}\\frac{(-1)^nx^{2n}}{(2n!)}$$\n",
        "\n"
      ],
      "metadata": {
        "id": "X82tR5ivPb2x"
      }
    },
    {
      "cell_type": "markdown",
      "source": [
        "Taylor series approximation of $cos(x)$ in Python."
      ],
      "metadata": {
        "id": "DaVBxvX0Bju3"
      }
    },
    {
      "cell_type": "code",
      "source": [
        "import math\n",
        "\n",
        "def func_cos(x, n):\n",
        "    cos_approx = 0\n",
        "    for i in range(n):\n",
        "        coef = (-1)**i\n",
        "        num = x**(2*i)\n",
        "        denom = math.factorial(2*i)\n",
        "        cos_approx += ( coef ) * ( (num)/(denom) )\n",
        "    \n",
        "    return cos_approx"
      ],
      "metadata": {
        "id": "wFJ8q2DUF2hj"
      },
      "execution_count": null,
      "outputs": []
    },
    {
      "cell_type": "markdown",
      "source": [
        "Let's use our `func_cos()` function to estimate the cosine of 45 degrees. **Note that `func_cos()` function computes the cosine of an angle in radians.** We have to convert 45 degrees into radian."
      ],
      "metadata": {
        "id": "hBHiNJrZB1kc"
      }
    },
    {
      "cell_type": "code",
      "source": [
        "angle_rad = (math.radians(45))\n",
        "output = func_cos(angle_rad,5)\n",
        "print(output)"
      ],
      "metadata": {
        "id": "uM3eoTicCYEV"
      },
      "execution_count": null,
      "outputs": []
    },
    {
      "cell_type": "markdown",
      "source": [
        "**Ex3:** Find the Taylor series for $f(x)=\\displaystyle\\frac{1}{x^2}$ about $x=-1$.\n",
        "\n",
        "Again, here are the derivatives and evaluations\n",
        "$$f^{(0)}(x)=\\frac{1}{x^2}\\implies f^{(0)}(-1)=\\frac{1}{(-1)^2}=1$$\n",
        "$$f^{(1)}(x)=\\frac{-2}{x^3}\\implies f^{(1)}(-1)=\\frac{-2}{(-1)^3}=2$$\n",
        "$$f^{(2)}(x)=\\frac{2(3)}{x^4}\\implies f^{(2)}(-1)=\\frac{2(3)}{(-1)^4}=2(3)$$\n",
        "$$...............$$\n",
        "$$f^{(n)}(x)=\\frac{(-1)^n(n+1)!}{x^{n+2}}\\implies f^{(n)}(-1)=\\frac{(-1)^n(n+1)!}{(-1)^{n+2}}=(n+1)!$$\n",
        "Notice that all the negative signs will cancel out in the evaluation. Also, this formula will work for all $n$, unlike the previous example.\n",
        "\n",
        "Here is the Taylor Series for this function.\n",
        "$$\\frac{1}{x^2}=\\sum_{n=0}^{\\infty}\\frac{f^{(n)}(-1)}{n!}(x+1)^n$$\n",
        "$$=\\sum_{n=0}^{\\infty}\\frac{(n+1)!}{n!}(x+1)^n$$\n",
        "$$=\\sum_{n=0}^{\\infty}(n+1)(x+1)^n$$\n",
        "\n"
      ],
      "metadata": {
        "id": "UkDAqRLeZQzU"
      }
    },
    {
      "cell_type": "markdown",
      "source": [
        "# **Activity:**"
      ],
      "metadata": {
        "id": "zh4vMBgiX7Pb"
      }
    },
    {
      "cell_type": "markdown",
      "source": [
        "**Q1:** Find the Taylor Series for $f(x)=sin(x)$ about $x=0$."
      ],
      "metadata": {
        "id": "bcCLRYALC9UX"
      }
    },
    {
      "cell_type": "markdown",
      "source": [
        "**Q2:** Find the Taylor Series for $f(x)=ln(x)$ about $x=2$."
      ],
      "metadata": {
        "id": "DGKS1UvbZDXe"
      }
    }
  ]
}