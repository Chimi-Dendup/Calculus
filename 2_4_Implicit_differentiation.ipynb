{
  "nbformat": 4,
  "nbformat_minor": 0,
  "metadata": {
    "colab": {
      "name": "2.4 Implicit differentiation",
      "provenance": [],
      "authorship_tag": "ABX9TyO/kslZj1u+Stg8wqRgZ7C+",
      "include_colab_link": true
    },
    "kernelspec": {
      "name": "python3",
      "display_name": "Python 3"
    },
    "language_info": {
      "name": "python"
    }
  },
  "cells": [
    {
      "cell_type": "markdown",
      "metadata": {
        "id": "view-in-github",
        "colab_type": "text"
      },
      "source": [
        "<a href=\"https://colab.research.google.com/github/Chimi-Dendup/Calculus/blob/main/2_4_Implicit_differentiation.ipynb\" target=\"_parent\"><img src=\"https://colab.research.google.com/assets/colab-badge.svg\" alt=\"Open In Colab\"/></a>"
      ]
    },
    {
      "cell_type": "markdown",
      "source": [
        "# **Implicit Differentiation:**"
      ],
      "metadata": {
        "id": "zbFuY_ZfzZ1a"
      }
    },
    {
      "cell_type": "markdown",
      "source": [
        "An **explicit function** is of the form that should be the most familiar, such as:\n",
        "$$y=cos(x)$$\n",
        "$$f(x)=x^3-2x+3$$\n",
        "Whereas an **implicit function** defines an algebraic relationship between variables. These functions have a form similar to the following:\n",
        "$$x^2+y^2=9$$\n",
        "$$x^2+xy=4$$\n",
        "In these examples and the following exercises, it is assumed that $y$ is implicitly defined and is a differentiable function of $x$.\n",
        "\n",
        "Luckily, **implicitly defined equations do not need to be solved for $y$ in terms of $x$ (or any other variable) to calculate the derivative of the function**. We can employ implicit differentiation to find the derivatives of implicitly defined equations.\n",
        "\n",
        "**Implicit differentiation** is performed by differentiating both sides of the equation with respect to $x$ and then solving for the resulting equation for the derivative of $y$.\n",
        "\n",
        "\n"
      ],
      "metadata": {
        "id": "x3drml-p0GW2"
      }
    },
    {
      "cell_type": "markdown",
      "source": [
        "**Example 1:** Consider the function $x^2+y^2=9$. We can apply implicit differentiation to this equation to find its derivative.\n",
        "\n",
        "Begin by differentiating both sides of the equation w.r.t $x$.\n",
        "$$\\frac{d}{dx}(x^2+y^2)=\\frac{d}{dx}(9)$$\n",
        "$$\\frac{d}{dx}(x^2)+\\frac{d}{dx}(y^2)=0$$\n",
        "\n",
        "Remember that $y$ is implicitly defined as a function of $x$, we apply the **chain rule** to find the derivative.\n",
        "$$2x+2y\\frac{dy}{dx}=0$$\n",
        "$$\\frac{dy}{dx}=\\frac{-x}{y}$$\n",
        "When dealing with more complex equations that feature more terms, it can be helpful to use **Newton notation** such as $y'$ to help keep the calculations easier to read.\n",
        "\n",
        "Now, let us confirm our result using the `sympy` package as before."
      ],
      "metadata": {
        "id": "WggH6SCA2BpF"
      }
    },
    {
      "cell_type": "markdown",
      "source": [
        "Import the needed functions and set $x$ and $y$ as variables to be recognized by `SymPy`."
      ],
      "metadata": {
        "id": "nGgN5o4B9hoH"
      }
    },
    {
      "cell_type": "code",
      "source": [
        "from sympy import symbols, idiff, sin, cos, tan, sqrt, init_printing, plot_implicit\n",
        "\n",
        "init_printing()\n",
        "x = symbols('x')\n",
        "y = symbols('y')"
      ],
      "metadata": {
        "id": "MLZdF_ry9sZi"
      },
      "execution_count": null,
      "outputs": []
    },
    {
      "cell_type": "markdown",
      "source": [
        "As we are finding the derivatives of implicitly defined functions, we use the `idiff` function rather than `diff` as seen in previous examples."
      ],
      "metadata": {
        "id": "i8i3fJ-D987f"
      }
    },
    {
      "cell_type": "code",
      "source": [
        "idiff(x**2+y**2-9,y,x)"
      ],
      "metadata": {
        "id": "9ZPpq0EB__92",
        "colab": {
          "base_uri": "https://localhost:8080/",
          "height": 51
        },
        "outputId": "fe2768de-c84a-409f-cdfc-8f4e20517bbb"
      },
      "execution_count": null,
      "outputs": [
        {
          "output_type": "execute_result",
          "data": {
            "image/png": "[encoded data removed]",
            "text/latex": "$\\displaystyle - \\frac{x}{y}$",
            "text/plain": [
              "-x \n",
              "───\n",
              " y "
            ]
          },
          "metadata": {},
          "execution_count": 4
        }
      ]
    },
    {
      "cell_type": "code",
      "source": [
        "plot_implicit(x**2+y**2-9)"
      ],
      "metadata": {
        "colab": {
          "base_uri": "https://localhost:8080/",
          "height": 314
        },
        "id": "4mC68AYZU6nA",
        "outputId": "57d3232a-0d9c-4c13-fd4b-d2b2a3d41be6"
      },
      "execution_count": null,
      "outputs": [
        {
          "output_type": "display_data",
          "data": {
            "image/png": "[encoded data removed]",
            "text/plain": [
              "<Figure size 432x288 with 1 Axes>"
            ]
          },
          "metadata": {
            "needs_background": "light"
          }
        },
        {
          "output_type": "execute_result",
          "data": {
            "text/plain": [
              "<sympy.plotting.plot.Plot at 0x7f92fd2e1dd0>"
            ]
          },
          "metadata": {},
          "execution_count": 5
        }
      ]
    },
    {
      "cell_type": "code",
      "source": [
        "plot_implicit(-x/y)"
      ],
      "metadata": {
        "colab": {
          "base_uri": "https://localhost:8080/",
          "height": 314
        },
        "id": "N4DvBV7dVD3P",
        "outputId": "c38930f1-a661-4a9f-8415-6c8e24f4a49b"
      },
      "execution_count": null,
      "outputs": [
        {
          "output_type": "display_data",
          "data": {
            "image/png": "[encoded data removed]",
            "text/plain": [
              "<Figure size 432x288 with 1 Axes>"
            ]
          },
          "metadata": {
            "needs_background": "light"
          }
        },
        {
          "output_type": "execute_result",
          "data": {
            "text/plain": [
              "<sympy.plotting.plot.Plot at 0x7f92fd0bc1d0>"
            ]
          },
          "metadata": {},
          "execution_count": 6
        }
      ]
    },
    {
      "cell_type": "markdown",
      "source": [
        "**Example 2:** Find the derivative of the implicit function \n",
        "$$x^2+xy-y^2=-4$$"
      ],
      "metadata": {
        "id": "4fHq3pKO-uws"
      }
    },
    {
      "cell_type": "code",
      "source": [
        "idiff(x**2+x*y-y**2+4,y,x)"
      ],
      "metadata": {
        "id": "gxHPdBMc_K6R",
        "colab": {
          "base_uri": "https://localhost:8080/",
          "height": 54
        },
        "outputId": "eb700aca-2b3c-48ab-d7c8-066f323a1a56"
      },
      "execution_count": null,
      "outputs": [
        {
          "output_type": "execute_result",
          "data": {
            "image/png": "[encoded data removed]",
            "text/latex": "$\\displaystyle - \\frac{2 x + y}{x - 2 y}$",
            "text/plain": [
              "-(2⋅x + y) \n",
              "───────────\n",
              "  x - 2⋅y  "
            ]
          },
          "metadata": {},
          "execution_count": 12
        }
      ]
    },
    {
      "cell_type": "markdown",
      "source": [
        "If interested, the implicit equations and their derivatives can be plotted easily using `SymPy`'s `plot_implicit()` function."
      ],
      "metadata": {
        "id": "1pgASp2M_osc"
      }
    },
    {
      "cell_type": "code",
      "source": [
        "plot_implicit(x**2+x*y-y**2+4)"
      ],
      "metadata": {
        "id": "H8DHmBR__6f9",
        "colab": {
          "base_uri": "https://localhost:8080/",
          "height": 314
        },
        "outputId": "a8e6c675-fc4d-4e95-b635-025ad1cef630"
      },
      "execution_count": null,
      "outputs": [
        {
          "output_type": "display_data",
          "data": {
            "image/png": "[encoded data removed]",
            "text/plain": [
              "<Figure size 432x288 with 1 Axes>"
            ]
          },
          "metadata": {
            "needs_background": "light"
          }
        },
        {
          "output_type": "execute_result",
          "data": {
            "text/plain": [
              "<sympy.plotting.plot.Plot at 0x7f92fd122c50>"
            ]
          },
          "metadata": {},
          "execution_count": 13
        }
      ]
    },
    {
      "cell_type": "code",
      "source": [
        "plot_implicit(-(2*x+y)/(x-2*y))"
      ],
      "metadata": {
        "colab": {
          "base_uri": "https://localhost:8080/",
          "height": 314
        },
        "id": "jnLOnP9uV3rS",
        "outputId": "5409d70d-9779-4b9c-da3e-37de508f6791"
      },
      "execution_count": null,
      "outputs": [
        {
          "output_type": "display_data",
          "data": {
            "image/png": "[encoded data removed]",
            "text/plain": [
              "<Figure size 432x288 with 1 Axes>"
            ]
          },
          "metadata": {
            "needs_background": "light"
          }
        },
        {
          "output_type": "execute_result",
          "data": {
            "text/plain": [
              "<sympy.plotting.plot.Plot at 0x7f92fd0d8d50>"
            ]
          },
          "metadata": {},
          "execution_count": 14
        }
      ]
    },
    {
      "cell_type": "markdown",
      "source": [
        ""
      ],
      "metadata": {
        "id": "NjcQsOmbVr_T"
      }
    },
    {
      "cell_type": "markdown",
      "source": [
        "**Example 3:** Find the derivative of the implicit function \n",
        "$$x^4(x+y)=y^2(3x-y)$$"
      ],
      "metadata": {
        "id": "pCXrL-GUBkEr"
      }
    },
    {
      "cell_type": "code",
      "source": [
        "idiff(x**4*(x+y)-y**2*(3*x-y),y,x)"
      ],
      "metadata": {
        "id": "H7OwA3wrDB5-",
        "colab": {
          "base_uri": "https://localhost:8080/",
          "height": 57
        },
        "outputId": "10d25c66-b516-4697-cc0d-46da898b8c0d"
      },
      "execution_count": null,
      "outputs": [
        {
          "output_type": "execute_result",
          "data": {
            "image/png": "[encoded data removed]",
            "text/latex": "$\\displaystyle \\frac{- 5 x^{4} - 4 x^{3} y + 3 y^{2}}{x^{4} - 6 x y + 3 y^{2}}$",
            "text/plain": [
              "     4      3        2\n",
              "- 5⋅x  - 4⋅x ⋅y + 3⋅y \n",
              "──────────────────────\n",
              "   4              2   \n",
              "  x  - 6⋅x⋅y + 3⋅y    "
            ]
          },
          "metadata": {},
          "execution_count": 17
        }
      ]
    },
    {
      "cell_type": "markdown",
      "source": [
        "Also, for fun, we can plot the implicit function and its derivative as we did previously."
      ],
      "metadata": {
        "id": "DKh2tWUrDrMm"
      }
    },
    {
      "cell_type": "code",
      "source": [
        "plot_implicit(x**4*(x+y)-y**2*(3*x-y))"
      ],
      "metadata": {
        "id": "Igx0PnbF0FZi",
        "colab": {
          "base_uri": "https://localhost:8080/",
          "height": 314
        },
        "outputId": "edec81b9-40a0-4506-8f1b-2ea618f2b8e0"
      },
      "execution_count": null,
      "outputs": [
        {
          "output_type": "display_data",
          "data": {
            "image/png": "[encoded data removed]",
            "text/plain": [
              "<Figure size 432x288 with 1 Axes>"
            ]
          },
          "metadata": {
            "needs_background": "light"
          }
        },
        {
          "output_type": "execute_result",
          "data": {
            "text/plain": [
              "<sympy.plotting.plot.Plot at 0x7f92fcfadf50>"
            ]
          },
          "metadata": {},
          "execution_count": 18
        }
      ]
    },
    {
      "cell_type": "code",
      "source": [
        ""
      ],
      "metadata": {
        "id": "GtFkkcCyENne"
      },
      "execution_count": null,
      "outputs": []
    },
    {
      "cell_type": "markdown",
      "source": [
        "# **Exercise:**"
      ],
      "metadata": {
        "id": "dZ4m54ekGZMg"
      }
    },
    {
      "cell_type": "markdown",
      "source": [
        "**Q1.**  Find the derivative of the function \n",
        "$$4~cos(x)~sin(y)=1$$"
      ],
      "metadata": {
        "id": "8IB4_snpGf1R"
      }
    },
    {
      "cell_type": "markdown",
      "source": [
        "**Q2.** $x^2+xy+y^3=0$ \n",
        "\n",
        "Find $\\frac{dy}{dx}.$"
      ],
      "metadata": {
        "id": "lyOpdxuwGytz"
      }
    },
    {
      "cell_type": "markdown",
      "source": [
        "**Q3.** $y^4+3xy+x=2$\n",
        "\n",
        "Find the value of $\\frac{dy}{dx}$ at the point $(2,0)$."
      ],
      "metadata": {
        "id": "tDcWPu66IDPv"
      }
    },
    {
      "cell_type": "markdown",
      "source": [
        "**Q4.** Find $y'$ at $(-1,1)$ if $x^2+3xy+y^2=-1.$"
      ],
      "metadata": {
        "id": "r_hfDHRNW0ZR"
      }
    }
  ]
}