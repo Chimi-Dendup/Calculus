{
  "nbformat": 4,
  "nbformat_minor": 0,
  "metadata": {
    "colab": {
      "name": "2.1 Review of differentiation",
      "provenance": [],
      "authorship_tag": "ABX9TyMvTpfghR4BFU95bkwndTsE",
      "include_colab_link": true
    },
    "kernelspec": {
      "name": "python3",
      "display_name": "Python 3"
    },
    "language_info": {
      "name": "python"
    }
  },
  "cells": [
    {
      "cell_type": "markdown",
      "metadata": {
        "id": "view-in-github",
        "colab_type": "text"
      },
      "source": [
        "<a href=\"https://colab.research.google.com/github/Chimi-Dendup/Calculus/blob/main/2_1_Review_of_differentiation.ipynb\" target=\"_parent\"><img src=\"https://colab.research.google.com/assets/colab-badge.svg\" alt=\"Open In Colab\"/></a>"
      ]
    },
    {
      "cell_type": "markdown",
      "source": [
        "# **Definition:**"
      ],
      "metadata": {
        "id": "a87FpK6PGiud"
      }
    },
    {
      "cell_type": "markdown",
      "source": [
        "**Increments:**\n",
        "\n",
        "The increment $\\Delta x$ of a variable $x$ is the change in $x$ as it increases or decreases from one value $x=x_0$ to another value $x=x_1$ in its domain. Here, $\\Delta x=x_1-x_0$ and we may write $x_1=x_0+\\Delta x$.\n",
        "\n",
        "If the variable $x$ is given an increment $\\Delta x$ from $x=x_0$ (that is, if $x$ changes from $x=x_0$ to $x=x_0+\\Delta x$) and a function $y=f(x)$ is thereby given an increment $\\Delta y=f(x_0+\\Delta x)-f(x_0)$ from $y=f(x_0)$, then the quotient \n",
        "$$\\frac{\\Delta y}{\\Delta x}=\\frac{Change ~~in~~ y}{Change ~~in~~ x}$$\n",
        "is called the *average rate of change* of the function on the interval between $x=x_0$ and $x=x_0+\\Delta x.$"
      ],
      "metadata": {
        "id": "VCx649hKGsX8"
      }
    },
    {
      "cell_type": "markdown",
      "source": [
        "**Example 1:**\n",
        "\n",
        "When $x$ is given the increment $\\Delta x=0.5$ from $x_0=1$, the function $y=f(x)=x^2+2x$ is given the increment $\\Delta y=f(1+0.5)-f(1)=2.25.$ Thus, the average rate of change of $y$ on the interval between $x=1$ and $x=1.5$ is $\\frac{\\Delta y}{\\Delta x}=\\frac{2.25}{0.5}=4.5.$"
      ],
      "metadata": {
        "id": "1Rab2IN7KL6t"
      }
    },
    {
      "cell_type": "markdown",
      "source": [
        "# **Derivative using limit:**"
      ],
      "metadata": {
        "id": "n1BV8vOBLupS"
      }
    },
    {
      "cell_type": "markdown",
      "source": [
        "**The derivative** of a function $y=f(x)$ with respect to $x$ at the point $x=x_0$ is defined as \n",
        "$$\\lim_{\\Delta x \\to 0}\\frac{\\Delta y}{\\Delta x}=\\lim_{\\Delta x \\to 0}\\frac{f(x_0+\\Delta x)-f(x_0)}{\\Delta x}$$\n",
        "provided the limit exist. This limit is also called *instantaneous rate of change* (or simply, the rate of change) of $y$ with respect to $x$ at $x=x_0.$"
      ],
      "metadata": {
        "id": "ov6jiOAVL2mA"
      }
    },
    {
      "cell_type": "markdown",
      "source": [
        "**Example 2:**\n",
        "\n",
        "Find the derivative of $y=f(x)=x^2+3x$ with respect to $x$ at $x=x_0.$ Use this to find the value of the derivative at $x_0=2$.\n",
        "\n",
        "$$y_0=f(x_0)=x_0^2+3x_0$$\n",
        "$$y_0+\\Delta y=f(x_0+\\Delta x)=(x_0+\\Delta x)^2+3(x_0+\\Delta x)$$\n",
        "$$=x_0^2+2x_0\\Delta x+(\\Delta x)^2+3x_0+3\\Delta x$$\n",
        "$$\\Delta y=f(x_0+\\Delta x)-f(x_0)=2x_0\\Delta x+(\\Delta x)^2+3\\Delta x$$\n",
        "$$\\frac{\\Delta y}{\\Delta x}=\\frac{f(x_0+\\Delta x)-f(x_0)}{\\Delta x}=2x_0+3+\\Delta x$$\n",
        "\n",
        "The derivative at $x=x_0$ is\n",
        "$$\\lim_{\\Delta x\\to0}\\frac{\\Delta y}{\\Delta x}=\\lim_{\\Delta x\\to 0}(2x_0+3+\\Delta x)=2x_0+3$$\n",
        "\n",
        "At $x_0=2$, the value of the derivative is $2(2)+3=7$."
      ],
      "metadata": {
        "id": "dZcC5OxNOU_H"
      }
    },
    {
      "cell_type": "markdown",
      "source": [
        "The derivative of $y=f(x)$ with respect to $x$ may be indicated by any one of the symbols $\\frac{dy}{dx}$ or $y'$ or $f'(x)$ or $\\frac{df(x)}{dx}.$"
      ],
      "metadata": {
        "id": "S4CSq5AnP9HL"
      }
    },
    {
      "cell_type": "markdown",
      "source": [
        "**Q1.** Find the derivative of $f(x)=\\displaystyle\\frac{1}{x-2}$ at $x=3$."
      ],
      "metadata": {
        "id": "BxsT-hwd9aCi"
      }
    },
    {
      "cell_type": "markdown",
      "source": [
        "## **Differentiation Rules**"
      ],
      "metadata": {
        "id": "zSR1PCztQ4I4"
      }
    },
    {
      "cell_type": "markdown",
      "source": [
        "**Rule 1: Derivative of a constant** \n",
        "\n",
        "If $c$ is constant, then $$\\frac{d}{dx}(c)=0.$$"
      ],
      "metadata": {
        "id": "he_1LVzPRDjn"
      }
    },
    {
      "cell_type": "markdown",
      "source": [
        "**Rule 2: Power rule for positive integer**\n",
        "\n",
        "If $n$ is a positive integer, then $$\\frac{d}{dx}(x^n)=nx^{n-1}$$"
      ],
      "metadata": {
        "id": "XZUtL4UxRfuB"
      }
    },
    {
      "cell_type": "markdown",
      "source": [
        "**Rule 3: The constant multiple rule**\n",
        "\n",
        "If $u$ is a differentiable function of $x$, and $c$ is a constant, then $$\\frac{d}{dx}(cu)=c\\frac{du}{dx}$$"
      ],
      "metadata": {
        "id": "DG6o0mXqSHDj"
      }
    },
    {
      "cell_type": "markdown",
      "source": [
        "**Rule 4: The sum rule**\n",
        "\n",
        "$$\\frac{d}{dx}(u+v)=\\frac{du}{dx}+\\frac{dv}{dx}$$"
      ],
      "metadata": {
        "id": "v9oLAW-fTToh"
      }
    },
    {
      "cell_type": "markdown",
      "source": [
        "**Rule 5: The product rule**\n",
        "\n",
        "$$\\frac{d}{dx}(uv)=u\\frac{dv}{dx}+v\\frac{du}{dx}$$"
      ],
      "metadata": {
        "id": "XPRpO_t9TxcR"
      }
    },
    {
      "cell_type": "markdown",
      "source": [
        "**Rule 6: The quotient rule**\n",
        "\n",
        "$$\\frac{d}{dx}(\\frac{u}{v})=\\frac{v\\frac{du}{dx}-u\\frac{dv}{dx}}{v^2}$$"
      ],
      "metadata": {
        "id": "eI-G3ayTUIs8"
      }
    },
    {
      "cell_type": "markdown",
      "source": [
        "\n",
        "\n",
        "---\n",
        "\n",
        "**Note:** Before trying to differentiate, you should be able to remember the basic derivatives of the different functions(**Refer books or any other sources**).\n",
        "\n",
        "---\n",
        "\n"
      ],
      "metadata": {
        "id": "rt889e09Wr2R"
      }
    },
    {
      "cell_type": "markdown",
      "source": [
        "**Derivative of polynomial functions:**"
      ],
      "metadata": {
        "id": "O_jc9E7HUQ_R"
      }
    },
    {
      "cell_type": "markdown",
      "source": [
        "**Examples:**\n",
        "\n",
        "Differentiate the following functions using the above rules.\n",
        "1. $y=x^5+x+8$\n",
        "\n",
        "Differentiation of $y$ w.r.t $x$ is\n",
        "$$\\frac{dy}{dx}=\\frac{d}{dx}(x^5+x+8)$$\n",
        "$$= \\frac{d}{dx}(x^5)+\\frac{d}{dx}(x)+\\frac{d}{dx}(8)$$\n",
        "$$\\implies \\frac{dy}{dx}= 5x^4+1$$"
      ],
      "metadata": {
        "id": "1W3F5IODVAMp"
      }
    },
    {
      "cell_type": "code",
      "source": [
        "import sympy as smp\n",
        "import numpy as np\n",
        "import scipy as sp\n",
        "import matplotlib.pyplot as plt"
      ],
      "metadata": {
        "id": "btJ2luoAVTE6"
      },
      "execution_count": null,
      "outputs": []
    },
    {
      "cell_type": "markdown",
      "source": [
        "First define all your symbols in `sympy`."
      ],
      "metadata": {
        "id": "9a2iKsjcb3Cp"
      }
    },
    {
      "cell_type": "code",
      "source": [
        "x=smp.symbols('x')\n",
        "f=x**5+x+8"
      ],
      "metadata": {
        "id": "ONG4jrj7b--X"
      },
      "execution_count": null,
      "outputs": []
    },
    {
      "cell_type": "markdown",
      "source": [
        "Compute derivative using `smp.diff(f,x,n)` where $f$ is the function you want to take derivative with respect to $x$ and where $n$ the number of successive derivatives."
      ],
      "metadata": {
        "id": "Ep1bgz9ccAtx"
      }
    },
    {
      "cell_type": "code",
      "source": [
        "df = smp.diff(f,x)\n",
        "df"
      ],
      "metadata": {
        "id": "JGwSZXQUL1i_",
        "colab": {
          "base_uri": "https://localhost:8080/",
          "height": 38
        },
        "outputId": "506028f3-f073-48b0-d640-2a1504312582"
      },
      "execution_count": null,
      "outputs": [
        {
          "output_type": "execute_result",
          "data": {
            "text/latex": "$\\displaystyle 5 x^{4} + 1$",
            "text/plain": [
              "5*x**4 + 1"
            ]
          },
          "metadata": {},
          "execution_count": 8
        }
      ]
    },
    {
      "cell_type": "markdown",
      "source": [
        "You can then compute numerical values by plugging in numbers."
      ],
      "metadata": {
        "id": "FtBM_0stdKE5"
      }
    },
    {
      "cell_type": "code",
      "source": [
        "df.subs(x,5).evalf()"
      ],
      "metadata": {
        "id": "wTXSHIMkd-Fy",
        "colab": {
          "base_uri": "https://localhost:8080/",
          "height": 37
        },
        "outputId": "3e3d4941-3615-456e-d903-9c267f66ce6c"
      },
      "execution_count": null,
      "outputs": [
        {
          "output_type": "execute_result",
          "data": {
            "text/latex": "$\\displaystyle 3126.0$",
            "text/plain": [
              "3126.00000000000"
            ]
          },
          "metadata": {},
          "execution_count": 9
        }
      ]
    },
    {
      "cell_type": "markdown",
      "source": [
        "Now you can convert to numerical function for plotting. The `lambdify` function translates `SymPy` expressions into Python functions."
      ],
      "metadata": {
        "id": "Iqj7YQqMc6c4"
      }
    },
    {
      "cell_type": "code",
      "source": [
        "num_f = smp.lambdify(x,df)"
      ],
      "metadata": {
        "id": "HE1S2Y7Leby2"
      },
      "execution_count": null,
      "outputs": []
    },
    {
      "cell_type": "markdown",
      "source": [
        "Define $x$ and $y$ arrays using the numerical functions above."
      ],
      "metadata": {
        "id": "IaUc8NMGeyC7"
      }
    },
    {
      "cell_type": "code",
      "source": [
        "x = np.linspace(1,20,100)\n",
        "y=num_f(x)"
      ],
      "metadata": {
        "id": "BJCyRRPie8Iv"
      },
      "execution_count": null,
      "outputs": []
    },
    {
      "cell_type": "markdown",
      "source": [
        "Now Plot "
      ],
      "metadata": {
        "id": "5g-IQaeYfcCF"
      }
    },
    {
      "cell_type": "code",
      "source": [
        "plt.plot(x,y)\n",
        "plt.ylabel('$dy/dx$')\n",
        "plt.xlabel('x')"
      ],
      "metadata": {
        "id": "j7p4QPsGfdq6",
        "colab": {
          "base_uri": "https://localhost:8080/",
          "height": 296
        },
        "outputId": "48c4b8ae-3410-44b5-8843-527ce743ef28"
      },
      "execution_count": null,
      "outputs": [
        {
          "output_type": "execute_result",
          "data": {
            "text/plain": [
              "Text(0.5, 0, 'x')"
            ]
          },
          "metadata": {},
          "execution_count": 12
        },
        {
          "output_type": "display_data",
          "data": {
            "image/png": "[encoded data removed]",
            "text/plain": [
              "<Figure size 432x288 with 1 Axes>"
            ]
          },
          "metadata": {
            "needs_background": "light"
          }
        }
      ]
    },
    {
      "cell_type": "markdown",
      "source": [
        "2.  $y= \\frac{1}{(x^2-1)(x^2+x+1)}$"
      ],
      "metadata": {
        "id": "8-6X_zO3VrIh"
      }
    },
    {
      "cell_type": "code",
      "source": [
        "import sympy as smp\n",
        "x=smp.symbols('x')\n",
        "x"
      ],
      "metadata": {
        "id": "pz-vNh3OVite",
        "colab": {
          "base_uri": "https://localhost:8080/",
          "height": 38
        },
        "outputId": "1a03715d-3664-4bee-bcdd-b0e2f2b13607"
      },
      "execution_count": null,
      "outputs": [
        {
          "output_type": "execute_result",
          "data": {
            "text/latex": "$\\displaystyle x$",
            "text/plain": [
              "x"
            ]
          },
          "metadata": {},
          "execution_count": 13
        }
      ]
    },
    {
      "cell_type": "code",
      "source": [
        "smp.diff(1/((x**2-1)*(x**2+x+1)),x)"
      ],
      "metadata": {
        "colab": {
          "base_uri": "https://localhost:8080/",
          "height": 58
        },
        "id": "K7yQVZUXBGxV",
        "outputId": "ae887cb1-b20d-47c7-d3b7-ecd083ccee45"
      },
      "execution_count": null,
      "outputs": [
        {
          "output_type": "execute_result",
          "data": {
            "text/latex": "$\\displaystyle - \\frac{2 x}{\\left(x^{2} - 1\\right)^{2} \\left(x^{2} + x + 1\\right)} + \\frac{- 2 x - 1}{\\left(x^{2} - 1\\right) \\left(x^{2} + x + 1\\right)^{2}}$",
            "text/plain": [
              "-2*x/((x**2 - 1)**2*(x**2 + x + 1)) + (-2*x - 1)/((x**2 - 1)*(x**2 + x + 1)**2)"
            ]
          },
          "metadata": {},
          "execution_count": 16
        }
      ]
    },
    {
      "cell_type": "markdown",
      "source": [
        "**Derivative of trigonometic functions:**"
      ],
      "metadata": {
        "id": "Qg67_LsPUG2a"
      }
    },
    {
      "cell_type": "markdown",
      "source": [
        "3. $sin^2(2x)-tan(x)$"
      ],
      "metadata": {
        "id": "iLgFKW8vWh1c"
      }
    },
    {
      "cell_type": "code",
      "source": [
        "smp.diff((smp.sin(2*x))**2-smp.tan(x),x)"
      ],
      "metadata": {
        "id": "uFVWMmytWNqR",
        "colab": {
          "base_uri": "https://localhost:8080/",
          "height": 38
        },
        "outputId": "88151578-afcf-403d-c000-dee3e4a54d48"
      },
      "execution_count": null,
      "outputs": [
        {
          "output_type": "execute_result",
          "data": {
            "text/latex": "$\\displaystyle 4 \\sin{\\left(2 x \\right)} \\cos{\\left(2 x \\right)} - \\tan^{2}{\\left(x \\right)} - 1$",
            "text/plain": [
              "4*sin(2*x)*cos(2*x) - tan(x)**2 - 1"
            ]
          },
          "metadata": {},
          "execution_count": 18
        }
      ]
    },
    {
      "cell_type": "markdown",
      "source": [
        "4. $sin^2(3x)$"
      ],
      "metadata": {
        "id": "sJSSDY4dUiGQ"
      }
    },
    {
      "cell_type": "code",
      "source": [
        "smp.diff(smp.sin(3*x)**2,x)"
      ],
      "metadata": {
        "id": "eow0-yd6Uu9i",
        "colab": {
          "base_uri": "https://localhost:8080/",
          "height": 38
        },
        "outputId": "6004873d-9664-4b7a-f533-d57bfffcf1ab"
      },
      "execution_count": null,
      "outputs": [
        {
          "output_type": "execute_result",
          "data": {
            "text/latex": "$\\displaystyle 6 \\sin{\\left(3 x \\right)} \\cos{\\left(3 x \\right)}$",
            "text/plain": [
              "6*sin(3*x)*cos(3*x)"
            ]
          },
          "metadata": {},
          "execution_count": 20
        }
      ]
    },
    {
      "cell_type": "markdown",
      "source": [
        "**Derivative of logarithmic and exponential functions:**\n",
        "\n",
        "5. $log(\\frac{1}{x})+e^{\\frac{5}{x}}$"
      ],
      "metadata": {
        "id": "81iLVJ3IVUZz"
      }
    },
    {
      "cell_type": "code",
      "source": [
        "smp.diff(smp.log(1/x)+smp.exp(5/x),x)"
      ],
      "metadata": {
        "id": "tcbqGK8GVvOH",
        "colab": {
          "base_uri": "https://localhost:8080/",
          "height": 56
        },
        "outputId": "d15a9de7-1634-4e87-8932-ac2eacbcf096"
      },
      "execution_count": null,
      "outputs": [
        {
          "output_type": "execute_result",
          "data": {
            "text/latex": "$\\displaystyle - \\frac{1}{x} - \\frac{5 e^{\\frac{5}{x}}}{x^{2}}$",
            "text/plain": [
              "-1/x - 5*exp(5/x)/x**2"
            ]
          },
          "metadata": {},
          "execution_count": 22
        }
      ]
    },
    {
      "cell_type": "markdown",
      "source": [
        "# **Activity:**"
      ],
      "metadata": {
        "id": "xhpxRF0WXTo1"
      }
    },
    {
      "cell_type": "markdown",
      "source": [
        "Find the derivate of the following;\n",
        "\n",
        "1. $v=(1-t)(1+t^2)^{-1}$"
      ],
      "metadata": {
        "id": "hJkR7CtDXbn1"
      }
    },
    {
      "cell_type": "markdown",
      "source": [
        "2. $w=(2x-7)^{-1}(x+5)$"
      ],
      "metadata": {
        "id": "mdAVJLvKXroa"
      }
    }
  ]
}