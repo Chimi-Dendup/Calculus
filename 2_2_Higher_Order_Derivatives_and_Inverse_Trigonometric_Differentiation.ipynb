{
  "nbformat": 4,
  "nbformat_minor": 0,
  "metadata": {
    "colab": {
      "name": "2.2 Higher Order Derivatives and Inverse Trigonometric Differentiation",
      "provenance": [],
      "authorship_tag": "ABX9TyMd5eOp0Q8cboeIVuip6FAT",
      "include_colab_link": true
    },
    "kernelspec": {
      "name": "python3",
      "display_name": "Python 3"
    },
    "language_info": {
      "name": "python"
    }
  },
  "cells": [
    {
      "cell_type": "markdown",
      "metadata": {
        "id": "view-in-github",
        "colab_type": "text"
      },
      "source": [
        "<a href=\"https://colab.research.google.com/github/Chimi-Dendup/Calculus/blob/main/2_2_Higher_Order_Derivatives_and_Inverse_Trigonometric_Differentiation.ipynb\" target=\"_parent\"><img src=\"https://colab.research.google.com/assets/colab-badge.svg\" alt=\"Open In Colab\"/></a>"
      ]
    },
    {
      "cell_type": "markdown",
      "source": [
        "# **Higher Order Derivatives:**"
      ],
      "metadata": {
        "id": "KaJ5FLx4LgDI"
      }
    },
    {
      "cell_type": "markdown",
      "source": [
        "Because the derivative of a function $y=f(x)$ is itself a function $y'=f'(x)$, you can take the derivative of $f'(x)$, which is generally referred to as the second derivative of $f(x)$ and written $f''(x)$ or $f^{(2)}(x)$. This differentiation process can be continued to find the third, fourth, and successive derivatives of $f(x)$, which are called **higher order derivatives** of $f(x)$. "
      ],
      "metadata": {
        "id": "kYXkmHGHLnCS"
      }
    },
    {
      "cell_type": "markdown",
      "source": [
        "**Example:** Find the first, second, and third derivatives of $f(x)=5x^4-3x^3+7x^2-9x+2$.\n",
        "\n",
        "$$f'(x)=20x^3-9x^2+14x-9$$\n",
        "$$f''(x)=60x^2-18x+14$$\n",
        "$$f'''(x)=120x-18$$\n",
        "\n",
        "Verify using `sympy` "
      ],
      "metadata": {
        "id": "QUvHzrhXMjbZ"
      }
    },
    {
      "cell_type": "code",
      "source": [
        "import sympy as smp\n",
        "x=smp.symbols('x')\n",
        "f=5*x**4-3*x**3+7*x**2-9*x+2\n",
        "f"
      ],
      "metadata": {
        "id": "dDlOO6p3NbeW",
        "colab": {
          "base_uri": "https://localhost:8080/",
          "height": 38
        },
        "outputId": "87d42adc-05c9-49be-f665-d42b5e77e5f2"
      },
      "execution_count": null,
      "outputs": [
        {
          "output_type": "execute_result",
          "data": {
            "text/latex": "$\\displaystyle 5 x^{4} - 3 x^{3} + 7 x^{2} - 9 x + 2$",
            "text/plain": [
              "5*x**4 - 3*x**3 + 7*x**2 - 9*x + 2"
            ]
          },
          "metadata": {},
          "execution_count": 17
        }
      ]
    },
    {
      "cell_type": "code",
      "source": [
        "smp.diff(f,x) # First derivative of f(x)"
      ],
      "metadata": {
        "colab": {
          "base_uri": "https://localhost:8080/",
          "height": 38
        },
        "id": "ZCKF-hUn3bSt",
        "outputId": "4e06cab7-1270-4f79-f0e3-7d9ff813bc2b"
      },
      "execution_count": null,
      "outputs": [
        {
          "output_type": "execute_result",
          "data": {
            "text/latex": "$\\displaystyle 20 x^{3} - 9 x^{2} + 14 x - 9$",
            "text/plain": [
              "20*x**3 - 9*x**2 + 14*x - 9"
            ]
          },
          "metadata": {},
          "execution_count": 18
        }
      ]
    },
    {
      "cell_type": "code",
      "source": [
        "smp.diff(f,x,2) # Second derivative of f(x)"
      ],
      "metadata": {
        "colab": {
          "base_uri": "https://localhost:8080/",
          "height": 38
        },
        "id": "6H6W6W403b8O",
        "outputId": "826fbeb8-2467-44ff-d6fb-b2365cad3ac2"
      },
      "execution_count": null,
      "outputs": [
        {
          "output_type": "execute_result",
          "data": {
            "text/latex": "$\\displaystyle 2 \\left(30 x^{2} - 9 x + 7\\right)$",
            "text/plain": [
              "2*(30*x**2 - 9*x + 7)"
            ]
          },
          "metadata": {},
          "execution_count": 19
        }
      ]
    },
    {
      "cell_type": "code",
      "source": [
        "smp.diff(f,x,3) # Third derivative of f(x)"
      ],
      "metadata": {
        "colab": {
          "base_uri": "https://localhost:8080/",
          "height": 38
        },
        "id": "PAcW3Ihk3dV3",
        "outputId": "ed2896a5-3c00-41a7-b5ad-db2778ec66ff"
      },
      "execution_count": null,
      "outputs": [
        {
          "output_type": "execute_result",
          "data": {
            "text/latex": "$\\displaystyle 6 \\left(20 x - 3\\right)$",
            "text/plain": [
              "6*(20*x - 3)"
            ]
          },
          "metadata": {},
          "execution_count": 20
        }
      ]
    },
    {
      "cell_type": "markdown",
      "source": [
        "# **Activity:**"
      ],
      "metadata": {
        "id": "67rOcby-NSj5"
      }
    },
    {
      "cell_type": "markdown",
      "source": [
        "**Q1)** Find the first, second, and third derivatives of $y=sin^2(x)$"
      ],
      "metadata": {
        "id": "rqwoirsiOoQx"
      }
    },
    {
      "cell_type": "markdown",
      "source": [
        "**Q2)** Find $f'''(4)$ if $f(x)=\\displaystyle\\sqrt{x}$."
      ],
      "metadata": {
        "id": "bnSDT3PROznZ"
      }
    },
    {
      "cell_type": "markdown",
      "source": [
        "# **Differentiation of Inverse Trigonometric Functions:**"
      ],
      "metadata": {
        "id": "nZ4xo-OzPJlo"
      }
    },
    {
      "cell_type": "markdown",
      "source": [
        "Each of the six basic trigonometric functions have corresponding inverse functions when appropriate restrictions are placed on the domain of the original functions. All the inverse trigonometric functions have derivatives, which are summarized as follows:\n",
        "\n",
        "1. If $f(x)=sin^{-1}(x)$, then $f'(x)=\\displaystyle\\frac{1}{\\sqrt{1-x^2}}$\n",
        "2. If $f(x)=cos^{-1}(x)$, then $f'(x)=\\displaystyle\\frac{-1}{\\sqrt{1-x^2}}$\n",
        "3. If $f(x)=tan^{-1}(x)$, then $f'(x)=\\displaystyle\\frac{1}{1+x^2}$\n",
        "4. If $f(x)=cot^{-1}(x)$, then $f'(x)=\\displaystyle\\frac{-1}{1+x^2}$\n",
        "5. If $f(x)=sec^{-1}(x)$, then $f'(x)=\\displaystyle\\frac{1}{x\\sqrt{x^2-1}}$\n",
        "6. If $f(x)=csc^{-1}(x)$, then $f'(x)=\\displaystyle\\frac{-1}{x\\sqrt{x^2-1}}$"
      ],
      "metadata": {
        "id": "P3WWMSpqPiy0"
      }
    },
    {
      "cell_type": "markdown",
      "source": [
        "**Example:** Find $f'(x)$ if $f(x)=cos^{-1}(5x)$.\n",
        "$$f'(x)=\\frac{-1}{\\sqrt{1-(5x)^2}}.5$$\n",
        "$$f'(x)=\\frac{-5}{\\sqrt{1-25x^2}}$$\n",
        "\n",
        "Verify using `sympy`"
      ],
      "metadata": {
        "id": "D80XKZqYRH1Y"
      }
    },
    {
      "cell_type": "code",
      "source": [
        "import sympy as sympy\n",
        "x=smp.symbols('x')\n",
        "f=smp.acos(5*x)\n",
        "f"
      ],
      "metadata": {
        "colab": {
          "base_uri": "https://localhost:8080/",
          "height": 38
        },
        "id": "XTW3f8O14nuu",
        "outputId": "711af05a-613d-4aac-ea4d-a55b5e793700"
      },
      "execution_count": null,
      "outputs": [
        {
          "output_type": "execute_result",
          "data": {
            "text/latex": "$\\displaystyle \\operatorname{acos}{\\left(5 x \\right)}$",
            "text/plain": [
              "acos(5*x)"
            ]
          },
          "metadata": {},
          "execution_count": 21
        }
      ]
    },
    {
      "cell_type": "code",
      "source": [
        "smp.diff(f,x,2)"
      ],
      "metadata": {
        "colab": {
          "base_uri": "https://localhost:8080/",
          "height": 60
        },
        "id": "NbQB2Eo65Afq",
        "outputId": "b362f651-3228-4d29-82a4-d1d109ede645"
      },
      "execution_count": null,
      "outputs": [
        {
          "output_type": "execute_result",
          "data": {
            "text/latex": "$\\displaystyle - \\frac{125 x}{\\left(1 - 25 x^{2}\\right)^{\\frac{3}{2}}}$",
            "text/plain": [
              "-125*x/(1 - 25*x**2)**(3/2)"
            ]
          },
          "metadata": {},
          "execution_count": 23
        }
      ]
    },
    {
      "cell_type": "code",
      "source": [
        "smp.diff(f,x,3)"
      ],
      "metadata": {
        "id": "kd3Qo2J89MoG",
        "outputId": "73037d75-5070-4d12-964e-db7ddfce9dcd",
        "colab": {
          "base_uri": "https://localhost:8080/",
          "height": 75
        }
      },
      "execution_count": null,
      "outputs": [
        {
          "output_type": "execute_result",
          "data": {
            "text/latex": "$\\displaystyle - \\frac{125 \\left(\\frac{75 x^{2}}{1 - 25 x^{2}} + 1\\right)}{\\left(1 - 25 x^{2}\\right)^{\\frac{3}{2}}}$",
            "text/plain": [
              "-125*(75*x**2/(1 - 25*x**2) + 1)/(1 - 25*x**2)**(3/2)"
            ]
          },
          "metadata": {},
          "execution_count": 24
        }
      ]
    },
    {
      "cell_type": "markdown",
      "source": [
        "# **Activity:**"
      ],
      "metadata": {
        "id": "OIYo8zssTFGm"
      }
    },
    {
      "cell_type": "markdown",
      "source": [
        "Find $y'$ if $y=arctan(\\sqrt{x})$."
      ],
      "metadata": {
        "id": "mNqmgOo0TJAu"
      }
    }
  ]
}