{
  "nbformat": 4,
  "nbformat_minor": 0,
  "metadata": {
    "colab": {
      "name": "1.1 Function of a real variable",
      "provenance": [],
      "collapsed_sections": [],
      "authorship_tag": "ABX9TyOaf+8EOdBA4Qo1IFobO0V1",
      "include_colab_link": true
    },
    "kernelspec": {
      "name": "python3",
      "display_name": "Python 3"
    },
    "language_info": {
      "name": "python"
    }
  },
  "cells": [
    {
      "cell_type": "markdown",
      "metadata": {
        "id": "view-in-github",
        "colab_type": "text"
      },
      "source": [
        "<a href=\"https://colab.research.google.com/github/Chimi-Dendup/Calculus/blob/main/1_1_Function_of_a_real_variable.ipynb\" target=\"_parent\"><img src=\"https://colab.research.google.com/assets/colab-badge.svg\" alt=\"Open In Colab\"/></a>"
      ]
    },
    {
      "cell_type": "markdown",
      "source": [
        "# **Introduction:**"
      ],
      "metadata": {
        "id": "7GRU_2LjoTc1"
      }
    },
    {
      "cell_type": "markdown",
      "source": [
        "**Calculus** is a branch of mathematics focused on limits, functions, derivatives, integrals, and infinite series.\n",
        "\n",
        "**Python Libraries:**\n",
        "\n",
        "**`Sympy` library:**\n",
        "\n",
        "We will use `SymPy` library to do calculus with python. `SymPy` is a Python library for symbolic mathematics. It aims to become a full-featured computer algebra system (CAS) while keeping the code as simple as possible in order to be comprehensible and easily extensible. `SymPy` is written entirely in Python.\n",
        "\n",
        "**Installing `Sympy` module:**\n",
        "\n",
        "`pip install sympy`\n",
        "\n",
        "**`Numpy` library:**\n",
        "\n",
        "We will also use **numpy** which is one of the most powerful library. \n",
        "\n",
        "**What is `NumPy`?**\n",
        "\n",
        "\n",
        "\n",
        "*   `NumPy` is an open-source numerical Python library.\n",
        "*   `NumPy` contains a multi-dimensional array and matrix data structures.\n",
        "*   It can be utilised to perform a number of mathematical operations on arrays such as trigonometric, statistical, and algebraic routines. Therefore, the library contains a large number of mathematical, algebraic, and transformation functions.\n",
        "*   `Numpy` also contains random number generators.\n",
        "\n",
        "**Installing `numpy` module:**\n",
        "\n",
        "`pip install numpy`\n",
        "\n",
        "\n",
        "\n"
      ],
      "metadata": {
        "id": "fBlduBAQmOmt"
      }
    },
    {
      "cell_type": "markdown",
      "source": [
        "**`Matplotlib` library:**\n",
        "\n",
        "We will also use **`matplotlib.pyplot`** library. `Matplotlib` is a comprehensive library for creating static, animated, and interactive visualizations in Python. Matplotlib makes easy things easy and hard things possible.\n",
        "\n",
        "**Installing `Matplotlib` module:**\n",
        "\n",
        "`pip install matplotlib.pyplot`"
      ],
      "metadata": {
        "id": "y26nwr3MYSb9"
      }
    },
    {
      "cell_type": "markdown",
      "source": [
        "# **Real function of one real variable:**"
      ],
      "metadata": {
        "id": "TsoLebxwk3xF"
      }
    },
    {
      "cell_type": "markdown",
      "source": [
        "**Definition:** \\\\\n",
        " Let $M\\subset \\mathbb{R}.$ A **function $f$** of real variable is a rule which assigns to each $x\\in M$ exactly one $y\\in\\mathbb{R}.$ \\\\\n",
        "\n",
        "Variable $x$ is called **argument** or **independent variable** and\n",
        "$y$ is called **dependent.**\n",
        "\n",
        "The set $M$ is called the **domain** of function $f$ and denoted by $D(f)$. A set $\\{y = f(x) | x\\in D(f)\\}$ is called the **range** of $f$ and is denoted by $H(f)$. \\\\\n",
        "\n",
        "\n",
        "**Notation**: $y = f(x), f\\mapsto\\mathbb{R}, x\\mapsto f(x), x\\mapsto y$ \\\\\n",
        "**General term**: Mapping\n"
      ],
      "metadata": {
        "id": "TuXrjJERlIiP"
      }
    },
    {
      "cell_type": "markdown",
      "source": [
        "**Composition of function:**\n",
        "\n",
        "**Definition:**\n",
        "\n",
        "Let $f$ and $g$ be real function with domain $D(f)$ and $D(g)$.\n",
        "\n",
        "\n",
        "*   Let $H(f)\\subseteq D(g)$. Then under the **composition of function** $f$ and $g$ we understand function $h$ defined by\n",
        "\n",
        "$$\\forall x\\in D(h): h(x)=g(f(x))$$ with $D(h)=D(f).$\n",
        " \n",
        "**Notation:** $h = g \\circ f$\n",
        "\n",
        "*   If $H(f)\\nsubseteq D(g)$., then by the domain of function $h = g \\circ f$ we understand the set\n",
        "\n",
        "$$D(h) = \\{x\\in D(f) | f(x)\\in D(g)\\}.$$\n",
        " \n",
        "**Remark:** In general $g \\circ f \\neq f \\circ g.$\n"
      ],
      "metadata": {
        "id": "aAEzHZHXmwdE"
      }
    },
    {
      "cell_type": "markdown",
      "source": [
        "**Examples 1:**\n",
        "\n",
        "\n",
        "Given $f(x) = x^3+3x-2,  g(x) = 2x-3$. Find,\n",
        "1. $g \\circ f$, and \n",
        "2. $f \\circ g.$\n",
        "\n",
        "$g ∘ f$ of a functions $f$ and $g$ is\n",
        "\n",
        "$$g\\circ f=g(f(x))=g(x^3+3x-2)=2(x^3+3x-2)-3=2x^3+6x-7$$\n",
        "\n",
        "Similarly, $f\\circ g$ of a functions $f$ and $g$ is\n",
        "$$f\\circ g=f(g(x))=f(2x-3)=(2x-3)^3+3(2x-3)-2=(2x-3)^3+6x-11$$\n",
        "\n",
        "It shows that $g\\circ f\\neq f\\circ g$\n",
        "\n",
        "Verify using `sympy`\n"
      ],
      "metadata": {
        "id": "-Zo7utkL13vw"
      }
    },
    {
      "cell_type": "code",
      "source": [
        "import sympy as smp\n",
        "from sympy import *\n",
        "x = smp.symbols('x')\n",
        "f, g = smp.symbols('f g',cls = smp.Function)\n",
        "g =  2*x - 3\n",
        "f = x**3+3*x-2"
      ],
      "metadata": {
        "id": "2At6sfH2q1Y-"
      },
      "execution_count": null,
      "outputs": []
    },
    {
      "cell_type": "code",
      "source": [
        "g_composite_f = g.subs(x,f) # g composite f\n",
        "g_composite_f"
      ],
      "metadata": {
        "id": "nHc5fxabwX9S",
        "colab": {
          "base_uri": "https://localhost:8080/",
          "height": 39
        },
        "outputId": "3edfb140-428b-4063-91be-2922830dfb46"
      },
      "execution_count": null,
      "outputs": [
        {
          "output_type": "execute_result",
          "data": {
            "text/latex": "$\\displaystyle 2 x^{3} + 6 x - 7$",
            "text/plain": [
              "2*x**3 + 6*x - 7"
            ]
          },
          "metadata": {},
          "execution_count": 19
        }
      ]
    },
    {
      "cell_type": "code",
      "source": [
        "f_composite_g = f.subs(x,g) # f composite g\n",
        "f_composite_g"
      ],
      "metadata": {
        "id": "wf349_sNy6fV",
        "colab": {
          "base_uri": "https://localhost:8080/",
          "height": 39
        },
        "outputId": "1b7a95d2-8053-443f-afed-ee3908ce91af"
      },
      "execution_count": null,
      "outputs": [
        {
          "output_type": "execute_result",
          "data": {
            "text/latex": "$\\displaystyle 6 x + \\left(2 x - 3\\right)^{3} - 11$",
            "text/plain": [
              "6*x + (2*x - 3)**3 - 11"
            ]
          },
          "metadata": {},
          "execution_count": 20
        }
      ]
    },
    {
      "cell_type": "markdown",
      "source": [
        "**Example 2:**\n",
        "Given $f(x) = x^2+6, g(x) = 2x-1$, find $g \\circ f$ and $f \\circ g.$"
      ],
      "metadata": {
        "id": "13xbJAM04RsF"
      }
    },
    {
      "cell_type": "markdown",
      "source": [
        "**Injective function:**\n",
        "\n",
        "**Definition:** \n",
        "\n",
        "Function $f: D(f)\\subseteq\\mathbb{R}\\to \\mathbb{R}$ is **injective (one to one)** on $M\\subseteq D(f)$ if\n",
        "\n",
        "$\\forall x_1,x_2\\in M: x_1\\neq x_2\\implies f(x_1)\\neq f(x_2)$\n",
        "\n",
        "**Example 3:** Determine if $g(x) = -3x^3 – 1$ is a one to one function using the algebraic approach.\n",
        "\n",
        "Here, let $x_1,x_2\\in D(g)$, then\n",
        "$$g(x_1)=-3x_1^3-1$$\n",
        "$$g(x_2)=-3x_2^3-1$$\n",
        "By the definition, we have \n",
        "$$g(x_1)=g(x_2)\\implies x_1=x_2$$\n",
        "\n",
        "To check, we have\n",
        "$$\\implies-3x_1^3-1=-3x_2^3-1$$\n",
        "$$\\implies x_1=x_2$$\n",
        "\n",
        "Therefore, the given function $g$ is a one to one function.\n",
        "\n",
        "\n"
      ],
      "metadata": {
        "id": "PA4iWd6Z7QIl"
      }
    },
    {
      "cell_type": "markdown",
      "source": [
        "**Example 4:** Check $f(x) = -x^3+3x^2-2$ is a injective function."
      ],
      "metadata": {
        "id": "1EhrH7Gp9yu7"
      }
    },
    {
      "cell_type": "markdown",
      "source": [
        "**Even and Odd functions:**\n",
        "\n",
        "**Definition:** \n",
        "\n",
        "\n",
        "\n",
        "*   We say that function $f : D(f)\\to \\mathbb{R}$ is **even** if \n",
        "$$\\forall x\\in D(f) : f(-x) = f(x)$$\n",
        "*   We say that function $f : D(f)\\to \\mathbb{R}$ is **odd** if \n",
        "$$\\forall x\\in D(f) : f(-x) = -f(x)$$\n",
        "\n",
        "**Remarks:**\n",
        "\n",
        "\n",
        "1.   Graph of an even function is symmetric with, respect to the\n",
        "y axis.\n",
        "2.   Graph of an odd function is symmetric with, respect to the\n",
        "origin.\n",
        "3.   Domain of an even or odd function is always\n",
        "symmetric with respect to the origin!\n",
        "\n",
        "**Example 5:** Check even/odd for the fowwling:\n",
        "\n",
        "\n",
        "\n",
        "\n",
        "1.   $f(x) = -x^3+3x^2-2$\n",
        "2.   $f(x) = sin(2x)$\n",
        "3.   $f(x) = tan(5x)$, and\n",
        "4.   $f(x) = e^{2x+3}$\n",
        "\n",
        "\n",
        "\n",
        "\n",
        "\n",
        "\n",
        "\n"
      ],
      "metadata": {
        "id": "cJDLqB5V95Fs"
      }
    },
    {
      "cell_type": "code",
      "source": [
        "import sympy as smp # Solution to example 5.1\n",
        "from sympy import *\n",
        "x = smp.symbols('x')\n",
        "f = smp.symbols('f',cls=smp.Function)\n",
        "f = -x**3 + 3*x**2 -2"
      ],
      "metadata": {
        "id": "03PaaSCA-C3E"
      },
      "execution_count": null,
      "outputs": []
    },
    {
      "cell_type": "code",
      "source": [
        "minus_x = f.subs(x,-x) # f(-x) value\n",
        "minus_x\n",
        "\n",
        "#Since f(-x) is not equal to f(x), the given function is odd"
      ],
      "metadata": {
        "id": "0KJQZ8IeA9X5"
      },
      "execution_count": null,
      "outputs": []
    },
    {
      "cell_type": "code",
      "source": [
        "plus_x = f.subs(x,x) # f(x) value\n",
        "plus_x"
      ],
      "metadata": {
        "id": "X54HuHhbHjAA"
      },
      "execution_count": null,
      "outputs": []
    },
    {
      "cell_type": "code",
      "source": [
        "if minus_x==plus_x:\n",
        "  print(\"even\")\n",
        "else:\n",
        "  print(\"odd\")"
      ],
      "metadata": {
        "id": "TaGNdjj5BbIo"
      },
      "execution_count": null,
      "outputs": []
    },
    {
      "cell_type": "markdown",
      "source": [
        "**Periodic Function:**\n",
        "\n",
        "**Definition:**\n",
        "\n",
        "A function $f: D(f)\\to \\mathbb{R}$ is called **periodic** if $\\exists$ $p\\in \\mathbb{R}$, $p\\neq 0 $ such that:\n",
        "\n",
        "(i).   $x\\in D(f)\\implies x\\pm p\\in D(f) $\n",
        "\n",
        "(ii).  $\\forall x\\in D(f): f(x\\pm p)=f(x)$\n",
        "\n",
        "Number $p$ is called a **period** of $f$. The smallest positive period is called **primitive**.\n",
        "\n",
        "\n",
        "**Example 6:** Trigonometric functions, inverse trigonometric functions, and hyperbolic functions.\n",
        "\n",
        "\n",
        "\n",
        "1.   Find the period of the function $sin(4x + 5)$.\n",
        "\n",
        "**Answer:** Since the period of $sin(x)$ is $2\\pi$, and the period of $sin(4x+5)$ is $\\frac{2\\pi}{4}=\\frac{\\pi}{2}$.\n",
        "2.   Find the period of the function $tan(5x+4)$.\n",
        "\n",
        "**Answer:** The period of $tan(x)$ is $\\pi$, and the period of $tan(5x+4)$ is $\\frac{\\pi}{4}.$\n",
        "\n"
      ],
      "metadata": {
        "id": "QYlEgNhZa0OE"
      }
    },
    {
      "cell_type": "code",
      "source": [
        "# importing the required modules\n",
        "import matplotlib.pyplot as plt\n",
        "import numpy as np\n",
        " \n",
        "# setting the x - coordinates\n",
        "x = np.arange(0, 2*(np.pi), 0.1)\n",
        "# setting the corresponding y - coordinates\n",
        "y = np.sin(4*x+5)\n",
        " \n",
        "# plotting the points\n",
        "plt.plot(x, y)\n",
        " \n",
        "# function to show the plot\n",
        "plt.show()"
      ],
      "metadata": {
        "id": "bSUvEVG6fp7j",
        "colab": {
          "base_uri": "https://localhost:8080/",
          "height": 265
        },
        "outputId": "ccb799b9-cc4e-46ea-aa5c-d252b2e7fad6"
      },
      "execution_count": null,
      "outputs": [
        {
          "output_type": "display_data",
          "data": {
            "image/png": "[encoded data removed]",
            "text/plain": [
              "<Figure size 432x288 with 1 Axes>"
            ]
          },
          "metadata": {
            "needs_background": "light"
          }
        }
      ]
    },
    {
      "cell_type": "markdown",
      "source": [
        "**Inverse Functions:**\n",
        "\n",
        "**Definition:**\n",
        "\n",
        "Let $f:D(f)\\to \\mathbb{R}$ be an injective function with range $H(f)$. **Inverse function** of $f$ (denoted $f^{-1}$) is defined by the relation, \n",
        "$$y = f(x)\\Leftrightarrow x = f^{-1}(y).$$\n",
        "\n",
        "Obviously the domain $D(f^{-1})=H(f)$ and range $H(f^{-1})=D(f).$\n",
        "\n",
        "**Remarks:**\n",
        "\n",
        "\n",
        "1.   Graph of $f^{-1}$ is symmetric to the graph of $f$ with respect to a line $y = x.$\n",
        "2.   $\\forall x\\in D(f): f^{-1}(f(x)) = x$\n",
        "3.   $\\forall y\\in D(f^{-1}) = H(f): f(f^{-1}(y))=y$\n",
        "4.   $(f^{-1})^{-1} = f.$\n",
        "\n"
      ],
      "metadata": {
        "id": "yH1t27bOizYb"
      }
    },
    {
      "cell_type": "markdown",
      "source": [
        "**Exponential and Logarithmic functions:**\n",
        "\n",
        "$y=a^x\\Leftrightarrow x = log_a(y), x\\in \\mathbb{R}, y>0,1\\neq a>0.$\n",
        "\n",
        "**Useful:** $h(x) = f(x)^{g(x)}= e^{g(x)ln(f(x))}.$"
      ],
      "metadata": {
        "id": "Phrua1DWlfle"
      }
    },
    {
      "cell_type": "markdown",
      "source": [
        "**Trigonometric Functions:**\n",
        "\n",
        "**Definition:**\n",
        "\n",
        " The **trigonometric functions** (also called **circular functions**, or **angle functions**) are real functions which relate an angle of a right-angled triangle to ratios of two side lengths.\n"
      ],
      "metadata": {
        "id": "sEq01TWHm3d0"
      }
    },
    {
      "cell_type": "code",
      "source": [
        "import numpy as np\n",
        "s = np.sin(20)\n",
        "c = np.cos(20)\n",
        "t = np.tan(20)"
      ],
      "metadata": {
        "id": "5lVpXCEwq3Qd"
      },
      "execution_count": null,
      "outputs": []
    }
  ]
}