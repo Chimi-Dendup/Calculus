{
  "cells": [
    {
      "cell_type": "markdown",
      "metadata": {
        "id": "view-in-github",
        "colab_type": "text"
      },
      "source": [
        "<a href=\"https://colab.research.google.com/github/Chimi-Dendup/Calculus/blob/main/1_2_Limit_of_a_function.ipynb\" target=\"_parent\"><img src=\"https://colab.research.google.com/assets/colab-badge.svg\" alt=\"Open In Colab\"/></a>"
      ]
    },
    {
      "cell_type": "markdown",
      "metadata": {
        "id": "loP5FFLXvOBE"
      },
      "source": [
        "# **Limits**"
      ]
    },
    {
      "cell_type": "markdown",
      "metadata": {
        "id": "G5m595YkM0Fp"
      },
      "source": [
        "**Definition 1:**\n",
        "\n",
        "If $f$ is a function, then we say that $\\displaystyle\\lim_{x \\to a} f(x) = A$ if the value of $f(x)$ gets arbitrarily close to $A$ as $x$ gets closer and closer to $a$.\n",
        "\n",
        "**Example 1:** $\\displaystyle\\lim_{x \\to 3}x^2 = 9$, since $x^2$ gets arbitrarily close to 9 as $x$ approaches as close as one wishes to 3.\n",
        "\n",
        "The definition can be stated more precisely as follows:\n",
        "\n",
        "$\\displaystyle\\lim_{x \\to a}f(x) = A$ if and only if, for any chosen positive number $\\epsilon$, however small, there exists a positive number $\\delta$ such that, whenever $0<|x-a|<\\delta$, then $|f(x)-A|<\\epsilon$. \n",
        "\n",
        "**Example 2:**  $\\displaystyle\\lim_{x \\to 2}\\frac{x^2-4}{x-2}=4,$ although $\\frac{x^2-4}{x-2}$ is not defined when $x=2.$ Since $\\frac{x^2-4}{x-2}=\\frac{(x-2)(x+2)}{x-2}=x+2,$ we see that $\\frac{x^2-4}{x-2}$ approaches 4 as $x$ approaches 2.\n",
        "\n"
      ]
    },
    {
      "cell_type": "markdown",
      "metadata": {
        "id": "-gy9qfK3XUMH"
      },
      "source": [
        "**Right and Left Limits:**\n",
        "\n",
        "For $\\displaystyle\\lim_{x\\to a}f(x)=A:$\n",
        "\n",
        "\n",
        "*   by $\\displaystyle\\lim_{x\\to a^-}f(x)=A$,  we mean that $f(x)$ approaches $A$ as $x$ approaches $a$ through values less than $a$, that is, as $x$ approaches $a$ **from the left**.\n",
        "*   by $\\displaystyle\\lim_{x\\to a^+}f(x)=A$,  we mean that $f(x)$ approaches $A$ as $x$ approaches $a$ through values greater than $a$, that is, as $x$ approaches $a$ **from the right**.\n",
        "\n",
        "**Remark:** The statement $\\displaystyle\\lim_{x\\to a}f(x)=A$ is equivalent to the conjunction of the two statements $\\displaystyle\\lim_{x\\to a^-}f(x)=A$ and $\\displaystyle\\lim_{x\\to a^+}f(x)=A$.\n",
        "\n"
      ]
    },
    {
      "cell_type": "markdown",
      "metadata": {
        "id": "ykAgIYh6b45K"
      },
      "source": [
        "**Results:**\n",
        "\n",
        "1.   If $f(x)=c,$ a constant, then $\\displaystyle\\lim_{x\\to a}f(x)=c.$\n",
        " \n",
        " If $\\displaystyle\\lim_{x\\to a}f(x)=A$ and $\\displaystyle\\lim_{x\\to a}g(x)=B$, then:\n",
        "\n",
        "\n",
        "2.   $\\displaystyle\\lim_{x\\to a}kf(x)=kA$, $k$ being any constant .\n",
        "3.   $\\displaystyle\\lim_{x\\to a}[f(x)\\pm g(x)]=\\lim_{x\\to a}f(x)\\pm\\lim_{x\\to a}g(x)=A\\pm B.$\n",
        "4.   $\\displaystyle\\lim_{x\\to a}[f(x) g(x)]=\\lim_{x\\to a}f(x)\\lim_{x\\to a}g(x)=AB.$\n",
        "5.   $\\displaystyle\\lim_{x\\to a}\\frac{f(x)}{g(x)}=\\frac{\\displaystyle\\lim_{x\\to a}f(x)}{\\displaystyle\\lim_{x\\to a}g(x)} =\\frac{A}{B},$ provided $B\\neq 0.$\n",
        "6.   $\\displaystyle\\lim_{x\\to a}n\\sqrt {f(x)}=n\\sqrt {\\lim_{x\\to a}f(x)}=n\\sqrt A$, provided $n\\sqrt A$ is a real number.\n",
        "\n",
        "\n"
      ]
    },
    {
      "cell_type": "markdown",
      "metadata": {
        "id": "6IuZfePd2gsA"
      },
      "source": [
        "**Infinity:** \n",
        "\n",
        "*  We say that $f(x)$ approaches $+\\infty$ as $x$ approaches $a$, and we write $\\displaystyle\\lim_{x\\to a}f(x)=+\\infty$, if, as $x$ approaches its limit $a$ (without assuming the value $a$), $f(x)$ eventually becomes and therefore remains greater than any preassigned positive number, however large.\n",
        "\n",
        "*  We say that $f(x)$ approaches $-\\infty$ as $x$ approaches $a$, and we write $\\displaystyle\\lim_{x\\to a}f(x)=-\\infty$, if, as $x$ approaches its limit $a$ (without assuming the value $a$), $f(x)$ eventually becomes and therefore remains less than any preassigned negative number.\n",
        "\n"
      ]
    },
    {
      "cell_type": "markdown",
      "metadata": {
        "id": "sl51HJ-44oma"
      },
      "source": [
        "**Example 3:** Evaluate:\n",
        "\n",
        "\n",
        "1.   $\\displaystyle\\lim_{x\\to 0}\\frac{1}{x^2}$\n",
        "2.   $\\displaystyle\\lim_{x\\to 1}\\frac{-1}{(x-1)^2}$\n",
        "3.   $\\displaystyle\\lim_{x\\to 0}\\frac{1}{x}$\n",
        "\n"
      ]
    },
    {
      "cell_type": "code",
      "execution_count": null,
      "metadata": {
        "id": "7Oc8qiNEf1A8"
      },
      "outputs": [],
      "source": [
        "import sympy as smp\n",
        "from sympy import *\n",
        "x=smp.symbols('x')\n",
        "s1 = smp.limit(1/x**2,x,0)\n",
        "s2 = smp.limit((-1)/(x-1)**2,x,1)\n",
        "s3 = smp.limit(1/x,x,0)"
      ]
    },
    {
      "cell_type": "markdown",
      "source": [
        "**Example:** Evaluate:\n",
        "\n",
        "(a).  $\\displaystyle\\lim_{x\\to \\infty}\\frac{2x+3}{4x-5}$"
      ],
      "metadata": {
        "id": "bQPGQkeQdyhD"
      }
    },
    {
      "cell_type": "code",
      "source": [
        "smp.limit((2*x+3)/(4*x-5),x,smp.oo) #Limit of a function"
      ],
      "metadata": {
        "id": "NMQHiOrdeg2Q",
        "colab": {
          "base_uri": "https://localhost:8080/",
          "height": 51
        },
        "outputId": "f3db8555-0d72-4a12-f048-0a81b2a66505"
      },
      "execution_count": null,
      "outputs": [
        {
          "output_type": "execute_result",
          "data": {
            "text/latex": "$\\displaystyle \\frac{1}{2}$",
            "text/plain": [
              "1/2"
            ]
          },
          "metadata": {},
          "execution_count": 2
        }
      ]
    },
    {
      "cell_type": "code",
      "source": [
        "import numpy as np\n",
        "import matplotlib.pyplot as plt\n",
        "\n",
        "def f(x):                        #define function\n",
        "  return (2*x + 3) / (4*x - 5)\n",
        "\n",
        "x_values = np.linspace(2,10,100, False) #generates random sequence between 2 and 10.\n",
        "\n",
        "plt.figure(1, figsize = (14,3)) #To plot a function\n",
        "plt.subplot(121)\n",
        "plt.plot(x_values,f(x_values))\n",
        "plt.show()"
      ],
      "metadata": {
        "id": "C6h0etxEewZV",
        "colab": {
          "base_uri": "https://localhost:8080/",
          "height": 211
        },
        "outputId": "f9a5da0e-3ba4-4c78-a88d-01ced452fb51"
      },
      "execution_count": null,
      "outputs": [
        {
          "output_type": "display_data",
          "data": {
            "image/png": "[encoded data removed]",
            "text/plain": [
              "<Figure size 1008x216 with 1 Axes>"
            ]
          },
          "metadata": {
            "needs_background": "light"
          }
        }
      ]
    },
    {
      "cell_type": "code",
      "source": [
        "x_values"
      ],
      "metadata": {
        "id": "ZW-zbs-qhfFL"
      },
      "execution_count": null,
      "outputs": []
    },
    {
      "cell_type": "markdown",
      "source": [
        "(b).  $\\displaystyle\\lim_{x\\to \\infty}\\frac{2x^2+1}{6+x-3x^2}$"
      ],
      "metadata": {
        "id": "5dh934QefYBn"
      }
    },
    {
      "cell_type": "code",
      "source": [
        "smp.limit((2*x**2+1)/(6+x-3*x**2),x,smp.oo)"
      ],
      "metadata": {
        "id": "Gi_YCw1EersE",
        "colab": {
          "base_uri": "https://localhost:8080/",
          "height": 51
        },
        "outputId": "f4ccdf37-cd79-48a9-c8dc-6b24969aab7a"
      },
      "execution_count": null,
      "outputs": [
        {
          "output_type": "execute_result",
          "data": {
            "text/latex": "$\\displaystyle - \\frac{2}{3}$",
            "text/plain": [
              "-2/3"
            ]
          },
          "metadata": {},
          "execution_count": 5
        }
      ]
    },
    {
      "cell_type": "markdown",
      "source": [
        "(c). $\\displaystyle\\lim_{x\\to \\infty}\\frac{x+3}{x^2+5x+6}$"
      ],
      "metadata": {
        "id": "cN44POw2gVMX"
      }
    },
    {
      "cell_type": "code",
      "source": [
        "smp.limit((x+3)/(x**2+5*x+6),x,smp.oo)"
      ],
      "metadata": {
        "id": "X2OOc9msf6yW",
        "colab": {
          "base_uri": "https://localhost:8080/",
          "height": 37
        },
        "outputId": "801e21e3-f56f-4a4b-8d2f-9ad7b00977c9"
      },
      "execution_count": null,
      "outputs": [
        {
          "output_type": "execute_result",
          "data": {
            "text/latex": "$\\displaystyle 0$",
            "text/plain": [
              "0"
            ]
          },
          "metadata": {},
          "execution_count": 7
        }
      ]
    },
    {
      "cell_type": "markdown",
      "source": [
        "(d). $\\displaystyle\\lim_{x\\to \\infty}\\frac{x^2+5x+6}{x+1}$"
      ],
      "metadata": {
        "id": "ZuPsNLxFg_4p"
      }
    },
    {
      "cell_type": "code",
      "source": [
        "smp.limit((x**2+5*x+6)/(x+1),x,smp.oo)"
      ],
      "metadata": {
        "id": "2jpOo3Nigz6J",
        "colab": {
          "base_uri": "https://localhost:8080/",
          "height": 37
        },
        "outputId": "3076da30-0e67-4c63-ed6b-db2ca18bf85e"
      },
      "execution_count": null,
      "outputs": [
        {
          "output_type": "execute_result",
          "data": {
            "text/latex": "$\\displaystyle \\infty$",
            "text/plain": [
              "oo"
            ]
          },
          "metadata": {},
          "execution_count": 9
        }
      ]
    },
    {
      "cell_type": "markdown",
      "source": [
        "# **Activity:**"
      ],
      "metadata": {
        "id": "2SWacj3l905L"
      }
    },
    {
      "cell_type": "markdown",
      "source": [
        "\n",
        "1.  Find the limit of a functions below:\n",
        "\n",
        "(i). $\\displaystyle\\lim_{x\\to \\infty +}\\frac{3^x-3^{-x}}{3^x+3^{-x}}$"
      ],
      "metadata": {
        "id": "qEq3yRaxiDX4"
      }
    },
    {
      "cell_type": "markdown",
      "source": [
        "(ii). $\\displaystyle\\lim_{x\\to \\infty -}\\frac{3^x-3^{-x}}{3^x+3^{-x}}$\n"
      ],
      "metadata": {
        "id": "jB5GlfE4lmrC"
      }
    },
    {
      "cell_type": "markdown",
      "source": [
        "2. Probe the existence of a limit.\n",
        "\n",
        "(iii). $\\displaystyle\\lim_{x\\to 1}\\frac{x-1}{\\sqrt{(x^2+3)}-2}$\n",
        "\n"
      ],
      "metadata": {
        "id": "hvVSepz1lfaC"
      }
    },
    {
      "cell_type": "markdown",
      "source": [
        "(iv).  $\\displaystyle\\lim_{h\\to 0}\\frac{(x+h)^3-x^3}{h}$\n",
        "\n"
      ],
      "metadata": {
        "id": "OgL6_8FoltfV"
      }
    },
    {
      "cell_type": "markdown",
      "source": [
        "(v). $\\displaystyle\\lim_{x\\to -1}\\frac{x^2+3x+2}{x^2+4x+3}$\n"
      ],
      "metadata": {
        "id": "Q9QXudD8lwi-"
      }
    },
    {
      "cell_type": "markdown",
      "source": [
        "\n",
        "\n",
        "3.   Investigate the behaviour of $f(x)=|x|$ as $x\\to 0.$ Plot a graph.\n",
        "\n"
      ],
      "metadata": {
        "id": "k65GsN2LjBND"
      }
    },
    {
      "cell_type": "markdown",
      "source": [
        "4.  Investigate the behaviour of \n",
        " \\begin{cases} \n",
        "      x & x> 0 \\\\\n",
        "      x+1 & x\\leq 0\n",
        "   \\end{cases}\n",
        "as $x\\to 0.$"
      ],
      "metadata": {
        "id": "OsOmCYrdkFRQ"
      }
    },
    {
      "cell_type": "markdown",
      "source": [
        "5. Calculate the limit:\n",
        "\n",
        "\n",
        "(i).   $\\displaystyle\\lim_{x\\to 0}\\frac{cos(3x)-cos(x)}{x^2}$\n",
        "\n"
      ],
      "metadata": {
        "id": "_LVgA0v0NRVN"
      }
    },
    {
      "cell_type": "markdown",
      "source": [
        "(ii). $\\displaystyle\\lim_{x\\to 0}\\frac{cos(x+a)-cos(x-a)}{x}$"
      ],
      "metadata": {
        "id": "k_FLDuxvOLIu"
      }
    },
    {
      "cell_type": "code",
      "source": [
        ""
      ],
      "metadata": {
        "id": "HjS6E3MyOVjf"
      },
      "execution_count": null,
      "outputs": []
    }
  ],
  "metadata": {
    "colab": {
      "name": "1.2 Limit of a function",
      "provenance": [],
      "authorship_tag": "ABX9TyOEzlEHxLwUx5iQUAv175tf",
      "include_colab_link": true
    },
    "kernelspec": {
      "display_name": "Python 3",
      "name": "python3"
    },
    "language_info": {
      "name": "python"
    }
  },
  "nbformat": 4,
  "nbformat_minor": 0
}