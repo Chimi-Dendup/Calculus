{
  "nbformat": 4,
  "nbformat_minor": 0,
  "metadata": {
    "colab": {
      "name": "2.3 Continuity and differentiability of a function",
      "provenance": [],
      "authorship_tag": "ABX9TyNOEEObaMiIlKntsikRjIXE",
      "include_colab_link": true
    },
    "kernelspec": {
      "name": "python3",
      "display_name": "Python 3"
    },
    "language_info": {
      "name": "python"
    }
  },
  "cells": [
    {
      "cell_type": "markdown",
      "metadata": {
        "id": "view-in-github",
        "colab_type": "text"
      },
      "source": [
        "<a href=\"https://colab.research.google.com/github/Chimi-Dendup/Calculus/blob/main/2_3_Continuity_and_differentiability_of_a_function.ipynb\" target=\"_parent\"><img src=\"https://colab.research.google.com/assets/colab-badge.svg\" alt=\"Open In Colab\"/></a>"
      ]
    },
    {
      "cell_type": "markdown",
      "source": [
        "# **The Differentiability of a Function:**"
      ],
      "metadata": {
        "id": "7iC0RurmPsc1"
      }
    },
    {
      "cell_type": "markdown",
      "source": [
        "In this section, we will learn how to determine whether a function is differentiable and identify the relation between a function’s differentiability and its continuity.\n",
        "\n",
        "When we learn about derivatives, we learn two important facts: firstly, that the derivative is the slope of the tangent to the graph of a function at any given point and, secondly, that the derivative is defined by a limit and, therefore, only exists if the given limit exists. Using these two important ideas about derivatives, we can determine whether certain derivatives exist. We begin by recapping the definition of the derivative in terms of a limit."
      ],
      "metadata": {
        "id": "vpzWT4LnP4q-"
      }
    },
    {
      "cell_type": "markdown",
      "source": [
        "**Definition:**\n",
        "\n",
        "The derivative of a function at a point $x=x_0$ is defined as \n",
        "$$f'(x_0)=\\lim_{x\\to x_0}\\frac{f(x)-f(x_0)}{x-x_0}$$\n",
        "\n",
        "An alternative but equivalent definition of the derivative is \n",
        "$$f'(x_0)=\\lim_{h\\to 0}\\frac{f(x_0+h)-f(x_0)}{h}$$\n",
        "\n",
        "We say that a function is differentiable at $x=x_0$ if these limits exist. If only the left or right limit exists, then we say that the function is differentiable at $x=x_0$ from the left or right.\n",
        "\n",
        "Hence, **differentiability** is when the slope of the tangent line equals the limit of the function at a given point. This directly suggests that for a function to be differentiable, it must be continuous, and its derivative must be continuous as well.\n"
      ],
      "metadata": {
        "id": "bd7gWgsrRxFr"
      }
    },
    {
      "cell_type": "markdown",
      "source": [
        "\n",
        "\n",
        "---\n",
        "\n",
        "\n",
        "**NOTE:** Now, this leads us to some very important implications; **all differentiable functions must therefore be continuous, but not all continuous functions are differentiable!**\n",
        "\n",
        "\n",
        "---\n",
        "\n"
      ],
      "metadata": {
        "id": "a6kO4vN3BvUJ"
      }
    },
    {
      "cell_type": "markdown",
      "source": [
        "**Example 1:** **Differentiability of a Function with the Jump Discontinuity**\n",
        "\n",
        "Suppose\n",
        "$$ f(x)= \\begin{cases} \n",
        "      -6x-4, & x\\leq -1 \\\\\n",
        "      3x^2, & x>-1 \n",
        "   \\end{cases}$$\n",
        "What can be said of the differentiability of $f$ at $x=-1.$"
      ],
      "metadata": {
        "id": "LHl_GsMDTgfh"
      }
    },
    {
      "cell_type": "markdown",
      "source": [
        "**Answer:** In this example we want to examine the differentiability of the piecewise function at a particular point.\n",
        "\n",
        "By the definition, we have to to check whether the limit of the $f'(x)$ exists or not. To do that,\n",
        "\n",
        "Let us check for **left-hand derivative(LHD):**\n",
        "$$LHD=\\lim_{h\\to 0^-}\\frac{f(x_0+h)-f(x_0)}{h}$$\n",
        "$$~~~~~~~~~~~~~= \\lim_{h\\to 0^-}\\frac{f(-1+h)-f(-1)}{h}$$\n",
        "$$~~~~~~~~~~~~~= \\lim_{h\\to 0^-}\\frac{-6(-1+h)-4-2}{h}$$\n",
        "$$=\\lim_{h\\to 0^-}\\frac{-6h}{h}=-6$$\n",
        "\n",
        "Also, for **right-hand derivative(RHD):**\n",
        "$$RHD=\\lim_{h\\to 0^+}\\frac{f(x_0+h)-f(x_0)}{h}$$\n",
        "$$~~~~~~~~~~~~~= \\lim_{h\\to 0^+}\\frac{f(-1+h)-f(-1)}{h}$$\n",
        "$$~~~~~~~~~~~~~= \\lim_{h\\to 0^+}\\frac{3(-1+h)^2-2}{h}$$\n",
        "$$=\\lim_{h\\to 0^+}\\frac{1-6h+3h^2}{h}=\\infty.$$\n",
        "\n",
        "Since $LHD\\neq RHD$, thus, limit doesn't exist. Which implies that the function $f(x)$ is not differentiable exactly at $x=-1$.\n",
        "\n",
        "**You can probe the continuity as well!**\n",
        "\n",
        "\n"
      ],
      "metadata": {
        "id": "Gs6B1gusVZJK"
      }
    },
    {
      "cell_type": "markdown",
      "source": [
        "Let us check the discontinuity by plotting of a piecewise function."
      ],
      "metadata": {
        "id": "e4VznuxLaJGD"
      }
    },
    {
      "cell_type": "code",
      "source": [
        "import matplotlib.pyplot as plt\n",
        "import numpy as np\n",
        "\n",
        "def f(x):\n",
        " if(x > -1): return 3*x**2\n",
        " else: return -6*x-4\n",
        "\n",
        "x = np.arange(-3., 5, 0.2)\n",
        "y = []\n",
        "for i in range(len(x)):\n",
        "   y.append(f(x[i]))\n",
        "plt.plot(x,y,c='green',ms=5)\n",
        "plt.show()"
      ],
      "metadata": {
        "id": "17wqA4TXWeoD",
        "colab": {
          "base_uri": "https://localhost:8080/",
          "height": 265
        },
        "outputId": "29ffa6f4-f26b-4bc2-f8d9-f5a0c15add2a"
      },
      "execution_count": null,
      "outputs": [
        {
          "output_type": "display_data",
          "data": {
            "image/png": "[encoded data removed]",
            "text/plain": [
              "<Figure size 432x288 with 1 Axes>"
            ]
          },
          "metadata": {
            "needs_background": "light"
          }
        }
      ]
    },
    {
      "cell_type": "markdown",
      "source": [
        "Also, using the definition of the continuity, we can check the given function"
      ],
      "metadata": {
        "id": "xp5X4qDCbJQe"
      }
    },
    {
      "cell_type": "code",
      "source": [
        "# Left hand limit of the given function, meaning the limit of the function when x tends to -1 from left.\n",
        "import sympy as smp\n",
        "x = smp.symbols('x')\n",
        "f = -6*x-4\n",
        "\n",
        "smp.limit(f,x,-1,dir='-')"
      ],
      "metadata": {
        "id": "VNnAu0aIbbPp",
        "colab": {
          "base_uri": "https://localhost:8080/",
          "height": 37
        },
        "outputId": "a822e7de-8145-44ab-9919-29545a84a5f6"
      },
      "execution_count": null,
      "outputs": [
        {
          "output_type": "execute_result",
          "data": {
            "text/latex": "$\\displaystyle 2$",
            "text/plain": [
              "2"
            ]
          },
          "metadata": {},
          "execution_count": 6
        }
      ]
    },
    {
      "cell_type": "code",
      "source": [
        "# Right hand limit of the given function, meaning the limit of the function when x tends to -1 from right.\n",
        "f = 3*x**2\n",
        "\n",
        "smp.limit(f,x,-1,dir='+')"
      ],
      "metadata": {
        "id": "ev_1CSsxcSxF",
        "colab": {
          "base_uri": "https://localhost:8080/",
          "height": 37
        },
        "outputId": "f273b511-2fce-447a-fc39-f646d2272166"
      },
      "execution_count": null,
      "outputs": [
        {
          "output_type": "execute_result",
          "data": {
            "text/latex": "$\\displaystyle 3$",
            "text/plain": [
              "3"
            ]
          },
          "metadata": {},
          "execution_count": 4
        }
      ]
    },
    {
      "cell_type": "markdown",
      "source": [
        "Since the left and right hand limit of the function are not equal, the limit does not exists.Thus, the given function is discontinuous at $x=-1$."
      ],
      "metadata": {
        "id": "sph-J_igdXI5"
      }
    },
    {
      "cell_type": "markdown",
      "source": [
        "**Example 2:**\n",
        "\n",
        "Consider a function with $f(-8)=3$ and $f'(-8)=7.$ What is $\\displaystyle\\lim_{x\\to -8}f(x)?$\n",
        "\n",
        "**Answer:** In this example, we will determine the value of the given limit of a function by using the connection between differentiability and continuity.\n",
        "\n",
        "We have been told that $f'(-8)=7$; therefore, we know that $f$ is differentiable at $x=-8$.Since differentiability implies continuity, we know that\n",
        "$$\\lim_{x\\to x_0}f(x)=f(x_0)$$\n",
        "Hence, $\\displaystyle\\lim_{x\\to -8}f(x)=3.$"
      ],
      "metadata": {
        "id": "YIk_Po_zKFXu"
      }
    },
    {
      "cell_type": "markdown",
      "source": [
        "# **Exercise:**"
      ],
      "metadata": {
        "id": "t7TC3UbGNgda"
      }
    },
    {
      "cell_type": "markdown",
      "source": [
        "1. Suppose\n",
        "$$ f(x)= \\begin{cases} \n",
        "      -1+\\frac{3}{x}, & x\\leq 1 \\\\\n",
        "      -x^3+3, & x>1 \n",
        "   \\end{cases}$$\n",
        "What can be said of the differentiability of $f$ at $x=1.$"
      ],
      "metadata": {
        "id": "ew1jTkxKNpa4"
      }
    },
    {
      "cell_type": "markdown",
      "source": [
        "2. Find the values of $a$ an $b$ and discuss the differentiability of the function of $f$ at $x=-1$ given that $f$ is continuous and \n",
        "$$ f(x)= \\begin{cases} \n",
        "      9x^2+ax+4, & x<- 1 \\\\\n",
        "      11, & x=-1 \\\\\n",
        "      a+bx, & x>-1\n",
        "   \\end{cases}$$"
      ],
      "metadata": {
        "id": "AkJ3rD1VODOJ"
      }
    },
    {
      "cell_type": "markdown",
      "source": [
        "3. Is the function \n",
        "$$ f(x)= \\begin{cases} \n",
        "      x~sin(\\frac{1}{x}), & x\\neq 0 \\\\\n",
        "      0, & x=0 \n",
        "   \\end{cases}$$\n",
        "differentiable at $x=0?$"
      ],
      "metadata": {
        "id": "aihH0yYQPTRb"
      }
    },
    {
      "cell_type": "code",
      "source": [
        ""
      ],
      "metadata": {
        "id": "P9lOVunhSSsA"
      },
      "execution_count": null,
      "outputs": []
    }
  ]
}