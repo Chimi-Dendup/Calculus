{
  "nbformat": 4,
  "nbformat_minor": 0,
  "metadata": {
    "colab": {
      "name": "3.10 Estimating change with differentials",
      "provenance": [],
      "authorship_tag": "ABX9TyMNSvo3tH/u9+oBQxnMZhsc",
      "include_colab_link": true
    },
    "kernelspec": {
      "name": "python3",
      "display_name": "Python 3"
    },
    "language_info": {
      "name": "python"
    }
  },
  "cells": [
    {
      "cell_type": "markdown",
      "metadata": {
        "id": "view-in-github",
        "colab_type": "text"
      },
      "source": [
        "<a href=\"https://colab.research.google.com/github/Chimi-Dendup/Calculus/blob/main/3_10_Estimating_change_with_differentials.ipynb\" target=\"_parent\"><img src=\"https://colab.research.google.com/assets/colab-badge.svg\" alt=\"Open In Colab\"/></a>"
      ]
    },
    {
      "cell_type": "markdown",
      "source": [
        "# **Differentials:**"
      ],
      "metadata": {
        "id": "1r28eXm_Q0Pw"
      }
    },
    {
      "cell_type": "markdown",
      "source": [
        "Given a function $y=f(x)$ we call $dy$ and $dx$ differentials and the relationship between them is given by,\n",
        "$$dy=f'(x)dx$$\n",
        "\n",
        "Note that if we are just given $f(x)$, then the differentials are $df$ and $dx$ and we compute them in the same manner.\n",
        "$$df=f'(x)dx$$\n",
        "\n",
        "With this let us see some differentials."
      ],
      "metadata": {
        "id": "xvzTgv0xQ5hY"
      }
    },
    {
      "cell_type": "markdown",
      "source": [
        "**Example 1:** $y=x^3-4x^2+7x$\n",
        "\n",
        "**Solution:** Here, not much to do than to take a derivatives.\n",
        "$$\\frac{dy}{dx}=3x^2-8x+7$$\n",
        "$$\\implies dy=(3x^2-8x+7)dx$$"
      ],
      "metadata": {
        "id": "K_4FEJ6cSx7a"
      }
    },
    {
      "cell_type": "markdown",
      "source": [
        "\n",
        "\n",
        "---\n",
        "\n",
        "\n",
        "There is a nice application to differentials. If we think of $\\Delta x$ as the change in $x$ then $\\Delta y=f(x+\\Delta x)-f(x)$ is the change in $y$ corresponding to the change in $x$. Now, if $\\Delta x$ is small we can assume that $\\Delta y\\approx dy$. Let us see some examples.\n",
        "\n",
        "\n",
        "---\n",
        "\n"
      ],
      "metadata": {
        "id": "Bg3EuawUU8yL"
      }
    },
    {
      "cell_type": "markdown",
      "source": [
        "**Example 2:** Compute $dy$ and $\\Delta x$ if $y=sin(x^2+1)-x$ as $x$ changes from $x=2$ to $x=2.03$."
      ],
      "metadata": {
        "id": "Mr734MNxWQAs"
      }
    },
    {
      "cell_type": "markdown",
      "source": [
        "**Solution:** First let's compute $\\Delta y$.\n",
        "$$\\Delta y=sin((2.03)^2+1)-2.03-(sin(2^2+1)-2)=-0.027898$$\n",
        "\n",
        "Now, let us take derivative of $y$ w.r.t $x$\n",
        "$$dy=(2xsin(x^2+1)-1)dx$$\n",
        "\n",
        "Next, the change in $x$ from $x=2$ to $x=2.03$ is $\\Delta x=0.03$ and so we then assume that $dx\\approx \\Delta x=0.03$. This gives an approximate change in $y$ of,\n",
        "$$dy=(2(2)sin(2^2+1)-1)(0.03)=-0.0195413$$\n",
        "\n",
        "We can see that in fact we do have that $\\Delta y\\approx dy$ provided we keep $\\Delta x$ small. \n"
      ],
      "metadata": {
        "id": "5bIurXkGXzYB"
      }
    },
    {
      "cell_type": "markdown",
      "source": [
        "**Example 3:** Compute the differential for $f(x)=x^2-sec(x)$."
      ],
      "metadata": {
        "id": "FejaXQahDJMm"
      }
    },
    {
      "cell_type": "markdown",
      "source": [
        "**Example 4:** Compute the differential for $w=e^{x^4-x^2+4x}$"
      ],
      "metadata": {
        "id": "M5kH9ue-DVcz"
      }
    },
    {
      "cell_type": "markdown",
      "source": [
        "**Example 5:** Compute $dy$ and $\\Delta y$ for $y=e^{x^2}$ as $x$ changes from $3$ to $3.01$."
      ],
      "metadata": {
        "id": "lJPDXlKpDgpI"
      }
    },
    {
      "cell_type": "markdown",
      "source": [
        "**Example 6:** The radius $r$ of a sphere increase from $5 cm$ to $5.2 cm$\n",
        "1. Use $dA$ to extimate the increase in the sphere's area $A$.\n",
        "2. Estimate the area of the enlarged sphere.\n",
        "3. Compare your extimate to the true area found by direct calculation."
      ],
      "metadata": {
        "id": "_6AjSChqugnu"
      }
    },
    {
      "cell_type": "markdown",
      "source": [
        "# **Activity:** "
      ],
      "metadata": {
        "id": "usqVtlZXmV6J"
      }
    },
    {
      "cell_type": "markdown",
      "source": [
        "**Q1)** Compute $dy$ and $\\Delta y$ for $y=e^{x^2}$ as $x$ changes from $3$ to $3.01$."
      ],
      "metadata": {
        "id": "fyA6P_5umaj3"
      }
    },
    {
      "cell_type": "markdown",
      "source": [
        "**Q2)** Compute $dy$ and $\\Delta y$ for $y=x^5-2x^3+7x$ as $x$ changes from $6$ to $5.9$."
      ],
      "metadata": {
        "id": "FvnMkuCDnSFA"
      }
    }
  ]
}