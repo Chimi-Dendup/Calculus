{
  "nbformat": 4,
  "nbformat_minor": 0,
  "metadata": {
    "colab": {
      "name": "3.6 Asymptotes",
      "provenance": [],
      "collapsed_sections": [
        "58BSlNKnXJ5r",
        "unnRrVF04f3s",
        "721ZOZFk4STW",
        "aiB0Ch8_9tUa"
      ],
      "authorship_tag": "ABX9TyMBOkMqDdjwLqB5bWgacId5",
      "include_colab_link": true
    },
    "kernelspec": {
      "name": "python3",
      "display_name": "Python 3"
    },
    "language_info": {
      "name": "python"
    }
  },
  "cells": [
    {
      "cell_type": "markdown",
      "metadata": {
        "id": "view-in-github",
        "colab_type": "text"
      },
      "source": [
        "<a href=\"https://colab.research.google.com/github/Chimi-Dendup/Calculus/blob/main/3_6_Asymptotes.ipynb\" target=\"_parent\"><img src=\"https://colab.research.google.com/assets/colab-badge.svg\" alt=\"Open In Colab\"/></a>"
      ]
    },
    {
      "cell_type": "markdown",
      "source": [
        "# **Asymptotes:**"
      ],
      "metadata": {
        "id": "58BSlNKnXJ5r"
      }
    },
    {
      "cell_type": "markdown",
      "source": [
        "An **asymptote** is a line that a graph approaches, but does not intersect.\n",
        "\n",
        "In these lessons, we will learn how to find **vertical** asymptotes, **horizontal** asymptotes and **oblique (slant)** asymptotes of rational functions."
      ],
      "metadata": {
        "id": "IU1Y9Nd_XTTl"
      }
    },
    {
      "cell_type": "markdown",
      "source": [
        "# **Vertical Asymptote:**"
      ],
      "metadata": {
        "id": "unnRrVF04f3s"
      }
    },
    {
      "cell_type": "markdown",
      "source": [
        "\n",
        "\n",
        "---\n",
        "\n",
        "\n",
        "The line $x=a$ is called **vertical asymptotes** of the curve $y=f(x)$ if atleast one of the following statements is true.\n",
        "$$\\lim_{x\\to a}f(x)=\\infty ~~or~~-\\infty$$\n",
        "$$\\lim_{x\\to a^-}f(x)=\\infty~~or~~-\\infty$$\n",
        "$$\\lim_{x\\to a^+}f(x)=\\infty~~or~~-\\infty$$\n",
        "\n",
        "For rational functions, vertical asymptotes are vertical lines that correspond to the zeroes of the denominator.\n",
        "\n",
        "\n",
        "---\n",
        "\n",
        "\n",
        "\n",
        "Given the rational function, $f(x)$\n",
        "\n",
        "\n",
        "*   Write $f(x)$ in reduced form\n",
        "*   If $(x-c)$ is a factor in the denominator, then $x = c$ is the vertical asymptote.\n",
        "\n"
      ],
      "metadata": {
        "id": "AwY9NA5ib2Ya"
      }
    },
    {
      "cell_type": "markdown",
      "source": [
        "**Example 1:** Find the vertical asymptotes of $f(x)=\\displaystyle\\frac{4x}{x-2}$.\n",
        "\n",
        "**Solution:** $f(x)$ is already in reduced form. The denominator is $x–2$, and so the Vertical Asymptote is at $x = 2$. At $x=2$, the denominator becomes zero which helps us to find vertical asymptotes."
      ],
      "metadata": {
        "id": "GkPHwrqgdwyO"
      }
    },
    {
      "cell_type": "markdown",
      "source": [
        "Check the function plot using `matplotlib`"
      ],
      "metadata": {
        "id": "Yx_jxUQo05VW"
      }
    },
    {
      "cell_type": "code",
      "source": [
        "import numpy as np\n",
        "from matplotlib import pyplot as plt\n",
        "#plt.rcParams[\"figure.figsize\"] = [7.00, 3.50]\n",
        "#plt.rcParams[\"figure.autolayout\"] = True\n",
        "x = np.linspace(-3, 6, 100)\n",
        "y = (4*x) / (x-2)\n",
        "\n",
        "#plt.axis('off')\n",
        "plt.plot(x, y, label='$y=4x/(x-2)$')\n",
        "plt.axhline(y=0, c='red')\n",
        "plt.axvline(x=0, c='red')\n",
        "plt.legend(loc='upper left')\n",
        "plt.show()\n",
        "\n"
      ],
      "metadata": {
        "id": "3xhXuDTeSsjb",
        "colab": {
          "base_uri": "https://localhost:8080/",
          "height": 303
        },
        "outputId": "d1698c5e-7d4d-403a-c0bd-bdb46d990c88"
      },
      "execution_count": null,
      "outputs": [
        {
          "output_type": "stream",
          "name": "stderr",
          "text": [
            "/usr/local/lib/python3.7/dist-packages/ipykernel_launcher.py:6: RuntimeWarning: divide by zero encountered in true_divide\n",
            "  \n"
          ]
        },
        {
          "output_type": "display_data",
          "data": {
            "text/plain": [
              "<Figure size 432x288 with 1 Axes>"
            ],
            "image/png": "[encoded data removed]"
          },
          "metadata": {
            "needs_background": "light"
          }
        }
      ]
    },
    {
      "cell_type": "markdown",
      "source": [
        "**Example 2:** $y=\\displaystyle\\frac{x-2}{x^2+x-6}$\n",
        "\n",
        "**Solution:** Reduce the denominator of the function in a factor form. \n",
        "$$x^2+x-6=0$$\n",
        "$$(x-2)(x+3)=0$$\n",
        "$$x-2=0~~or~~x+3=0$$\n",
        "$$x=2~~or~~x=-3$$ \n",
        "\n",
        "Thus, at $x=2$ and $x=-3$ the denominator becomes zero and the vertical asymptotes we are looking for are $x=2$ and $x=-3$."
      ],
      "metadata": {
        "id": "G1nwj74L1Gc6"
      }
    },
    {
      "cell_type": "code",
      "source": [
        "import numpy as np\n",
        "from matplotlib import pyplot as plt\n",
        "x = np.linspace(-3, 3, 1000)\n",
        "y = (x-2) / (x**2+x-6)\n",
        "\n",
        "plt.plot(x, y)\n",
        "plt.axhline(y=0, c='red')\n",
        "plt.axvline(x=0, c='red')\n",
        "plt.show()"
      ],
      "metadata": {
        "id": "2J32DB4KTflp",
        "colab": {
          "base_uri": "https://localhost:8080/",
          "height": 300
        },
        "outputId": "6e617719-ce2a-4bb3-ed26-098b6ab6ae47"
      },
      "execution_count": null,
      "outputs": [
        {
          "output_type": "stream",
          "name": "stderr",
          "text": [
            "/usr/local/lib/python3.7/dist-packages/ipykernel_launcher.py:4: RuntimeWarning: divide by zero encountered in true_divide\n",
            "  after removing the cwd from sys.path.\n"
          ]
        },
        {
          "output_type": "display_data",
          "data": {
            "text/plain": [
              "<Figure size 432x288 with 1 Axes>"
            ],
            "image/png": "[encoded data removed]"
          },
          "metadata": {
            "needs_background": "light"
          }
        }
      ]
    },
    {
      "cell_type": "markdown",
      "source": [
        "**Activity:**\n",
        "\n",
        "**Q)** $y=\\displaystyle\\frac{x^2-7x+12}{x^2+2x-15}$. Find the vertical asymptotes. "
      ],
      "metadata": {
        "id": "95ZDh2j23rOc"
      }
    },
    {
      "cell_type": "markdown",
      "source": [
        "# **Horizontal Asymptote:**"
      ],
      "metadata": {
        "id": "721ZOZFk4STW"
      }
    },
    {
      "cell_type": "markdown",
      "source": [
        "\n",
        "\n",
        "---\n",
        "\n",
        "The line $y = l$ is called a horizontal asymptote of the curve $y = f(x)$ if either\n",
        "$$\\lim_{x\\to\\infty}f(x)=l~~or~~\\lim_{x\\to -\\infty}f(x)=l$$\n",
        "\n",
        "---\n",
        "For the rational function, $f(x)$\n",
        "\n",
        "* If the degree of $x$ in the numerator is less than the degree of $x$ in the denominator then $y = 0$ is the horizontal asymptote.\n",
        "\n",
        "* If the degree of $x$ in the numerator is equal to the degree of $x$ in the denominator then $y = c$ where $c$ is obtained by dividing the leading coefficients.\n",
        "\n",
        "* If the degree of the numerator is greater than the degree of the denominator, then there is no horizontal asymptote.\n"
      ],
      "metadata": {
        "id": "YcoZjvLD4Z_r"
      }
    },
    {
      "cell_type": "markdown",
      "source": [
        "**Example 3:** Find vertical and horizontal asymptotes of $y=\\displaystyle\\frac{2x+1}{3x-5}$.\n",
        "\n",
        "**Solution:** Dividing both numerator and denominator by $x$.\n",
        "$$\\lim_{x\\to \\infty}\\frac{2x+1}{3x-5}=\\lim_{x\\to \\infty}\\displaystyle\\frac{2+\\displaystyle\\frac{1}{x}}{3-\\frac{5}{x}}=\\frac{2}{3}$$\n",
        "\n",
        "The line $y=\\displaystyle\\frac{2}{3}$ is the horizontal asymptote."
      ],
      "metadata": {
        "id": "E1cYmbEy5pL-"
      }
    },
    {
      "cell_type": "code",
      "source": [
        "import numpy as np\n",
        "from matplotlib import pyplot as plt\n",
        "x = np.linspace(-20, 20, 100)\n",
        "y = (2*x+1) / (2*x-5)\n",
        "\n",
        "plt.plot(x, y)\n",
        "plt.axhline(y=0, c='red')\n",
        "plt.axvline(x=0, c='red')\n",
        "plt.show()"
      ],
      "metadata": {
        "id": "pPz655PO2iav",
        "colab": {
          "base_uri": "https://localhost:8080/",
          "height": 265
        },
        "outputId": "1e0dfec7-4d12-4eb5-9367-6cf5006cdf43"
      },
      "execution_count": null,
      "outputs": [
        {
          "output_type": "display_data",
          "data": {
            "text/plain": [
              "<Figure size 432x288 with 1 Axes>"
            ],
            "image/png": "[encoded data removed]"
          },
          "metadata": {
            "needs_background": "light"
          }
        }
      ]
    },
    {
      "cell_type": "markdown",
      "source": [
        "**Activity:**\n",
        "\n",
        "**Q)** $y=\\displaystyle\\frac{x^2+1}{3x^2+1}$. Find the horizontal asymptote."
      ],
      "metadata": {
        "id": "RcxbDrTb9UCo"
      }
    },
    {
      "cell_type": "markdown",
      "source": [
        "# **Oblique (Slant) Asymptote:**"
      ],
      "metadata": {
        "id": "aiB0Ch8_9tUa"
      }
    },
    {
      "cell_type": "markdown",
      "source": [
        "\n",
        "\n",
        "---\n",
        "\n",
        "Some curves have asymptotes that are oblique, that is, neither horizontal nor vertical.\n",
        "\n",
        "If $\\displaystyle\\lim_{x\\to \\infty}[f(x)-(mx+b)]=0$, then the line $y=mx+b$ is called the oblique or slant asymptote because the vertical distances between the curve $y = f(x)$ and the line $y=mx+b$ approaches $0$.\n",
        "\n",
        "For rational functions, oblique asymptotes occur when the degree of the numerator is one more than the degree of the denominator. In such a case the equation of the oblique asymptote can be found by long division.\n",
        "\n",
        "---\n",
        "\n"
      ],
      "metadata": {
        "id": "zf8S3wH392fe"
      }
    },
    {
      "cell_type": "markdown",
      "source": [
        "**Example:** Find the asymptotes of the function $f(x)=\\displaystyle\\frac{x^3}{x^2+1}$.\n",
        "\n",
        "**Solution:** Since the denominator $x^2 + 1$ is never $0$, there is no vertical asymptote.\n",
        "\n",
        "Also, since the degree of $x$ in the numerator is greater than the degree of $x$ in the denominator there is no horizontal asymptote.\n",
        "\n",
        "But the degree of $x$ in the numerator is one greater than the degree of $x$ in the denominator we can use long division to obtain the oblique asymptote.\n",
        "$$f(x)=\\frac{x^3}{x^2+1}=x-\\frac{x}{x^2+1}$$\n",
        "\n",
        "So, the line $y = x$ is the oblique asymptote."
      ],
      "metadata": {
        "id": "L-8nX2iM-wIR"
      }
    },
    {
      "cell_type": "code",
      "source": [
        "import numpy as np\n",
        "from matplotlib import pyplot as plt\n",
        "x = np.linspace(-4, 4, 1000)\n",
        "y = (x**3) / (x**2+1)\n",
        "\n",
        "plt.plot(x, y)\n",
        "plt.axhline(y=0, c='red')\n",
        "plt.axvline(x=0, c='red')\n",
        "plt.show()"
      ],
      "metadata": {
        "colab": {
          "base_uri": "https://localhost:8080/",
          "height": 266
        },
        "id": "5l5Axdi97_L5",
        "outputId": "08db7472-74fc-47b9-e719-0f8918deda0f"
      },
      "execution_count": null,
      "outputs": [
        {
          "output_type": "display_data",
          "data": {
            "text/plain": [
              "<Figure size 432x288 with 1 Axes>"
            ],
            "image/png": "[encoded data removed]"
          },
          "metadata": {
            "needs_background": "light"
          }
        }
      ]
    },
    {
      "cell_type": "markdown",
      "source": [
        "**Activity:**\n",
        "\n",
        "**Q)** Find an asymptote of $f(x)=\\displaystyle\\frac{x^2+1}{x-4}$."
      ],
      "metadata": {
        "id": "dGA8qXutB4R7"
      }
    }
  ]
}