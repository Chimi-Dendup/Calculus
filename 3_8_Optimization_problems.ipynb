{
  "nbformat": 4,
  "nbformat_minor": 0,
  "metadata": {
    "colab": {
      "name": "3.8 Optimization problems",
      "provenance": [],
      "authorship_tag": "ABX9TyPNWsctihJZTzsfOTB6c1pq",
      "include_colab_link": true
    },
    "kernelspec": {
      "name": "python3",
      "display_name": "Python 3"
    },
    "language_info": {
      "name": "python"
    }
  },
  "cells": [
    {
      "cell_type": "markdown",
      "metadata": {
        "id": "view-in-github",
        "colab_type": "text"
      },
      "source": [
        "<a href=\"https://colab.research.google.com/github/Chimi-Dendup/Calculus/blob/main/3_8_Optimization_problems.ipynb\" target=\"_parent\"><img src=\"https://colab.research.google.com/assets/colab-badge.svg\" alt=\"Open In Colab\"/></a>"
      ]
    },
    {
      "cell_type": "markdown",
      "source": [
        "# **Optimization:**"
      ],
      "metadata": {
        "id": "eG41fqCihecc"
      }
    },
    {
      "cell_type": "markdown",
      "source": [
        "To optimize something means to maximize or minimize some aspect of it.\n",
        "\n",
        "The first step in optimization problems should be to very carefully read the problem. Once you've done that the next step is to identify the quantity to be optimized and the constraints.\n",
        "\n",
        "General representation of optimization problem is of the form;\n",
        "\n",
        "\n",
        "\n",
        "---\n",
        "\n",
        "Minimize/Maximize **Objective Function**\n",
        "\n",
        "Subject to  **Constraints**\n",
        "\n",
        "---\n",
        "\n"
      ],
      "metadata": {
        "id": "SgfHffJyhizv"
      }
    },
    {
      "cell_type": "markdown",
      "source": [
        "With the help of first derivative test and second derivative test(refer maxima and minima section), we can obtain the maximum and minimum values of a objective function subject to constraints.\n",
        "\n",
        "Without further delay let us see few examples to make the concepts more clear."
      ],
      "metadata": {
        "id": "IjbE6zZpi4u3"
      }
    },
    {
      "cell_type": "markdown",
      "source": [
        "**Example 1:** Find two positive numbers whose sum is 200 and whose product is a maximum. \n",
        "\n",
        "**Solution:** The first step is to write down equations describing this situation.\n",
        "\n",
        "Let’s call the two numbers $x$ and $y$ and we are told that the sum is 200 (this is the constraint for the problem) or,\n",
        "$$x+y=200$$\n",
        "We are being asked to maximize the product,\n",
        "$$P=xy$$\n",
        "\n",
        "We now need to solve the constraint for $x$ and $y$ (and it really doesn’t matter which variable we solve for in this case) and plug this into the product equation.\n",
        "$$y=200-x\\implies P(x)=x(200-x)=200x-x^2$$\n",
        "\n",
        "Now, we are to determine the critical points for this equation.\n",
        "$$P'(x)=200-2x\\implies 200-2x=0\\implies x=100$$\n",
        "\n",
        "Taking the second derivative, we get\n",
        "$$P''(x)=-2<0$$\n",
        "Thus, it shows that the function $P(x)$ is maximum.\n",
        "\n",
        "Plugging in $x=100$ in $y=200-x$, we get $y=100$\n",
        "\n",
        "Thus, the optimal points are $x=100$ and $y=100$."
      ],
      "metadata": {
        "id": "hFN1QDiXj3WR"
      }
    },
    {
      "cell_type": "markdown",
      "source": [
        "**Example 2:** Find two positive numbers whose product is $750$ and for which the sum of one and $10$ times the other is a minimum.\n",
        "\n",
        "**Solution:** Let’s call the two numbers $x$ and $y$ and we are told that the product is $750$ (this is the constraint for the problem) or,\n",
        "$$xy=750$$\n",
        "We are then being asked to minimize the sum of one and $10$ times the other,\n",
        "$$S=x+10y$$\n",
        "Note that it really doesn’t worry which is $x$ and which is $y$ in the sum so we simply chose the $y$ to be multiplied by $10$.\n",
        "\n",
        "We now need to solve the constraint for $x$ and $y$\n",
        "$$x=\\frac{750}{y}\\implies S(y)=\\frac{750}{y}+10y$$\n",
        "\n",
        "The next step is to determine the critical points for this equation.\n",
        "$$S'(y)=-\\frac{750}{y^2}+10\\rightarrow -\\frac{750}{y^2}+10=0\\rightarrow y=\\pm 5\\sqrt{3}$$\n",
        "\n",
        "We will choose $y=5\\sqrt{3}$, because we have assumed that $y$ is positive.\n",
        "\n",
        "Now, take the second derivative to test for the maximum and minimum of the function.\n",
        "$$S''(y)=\\frac{1500}{y^3}$$\n",
        "Provided the $y$ is positive, $S''(y)>0$, thus minimum.\n",
        "\n",
        "Since we need to give boththe values, putting $y=5\\sqrt{3}$ in $xy=750$, we get $x=50\\sqrt{3}$."
      ],
      "metadata": {
        "id": "VRhnUMEQoPtm"
      }
    },
    {
      "cell_type": "markdown",
      "source": [
        "**Example 3:** Find two positive numbers whose product is $400$ and such that the sum of twice the first and three times the second is a minimum."
      ],
      "metadata": {
        "id": "L3DZ5mvAu7Y-"
      }
    },
    {
      "cell_type": "markdown",
      "source": [
        "**Example 4:** We are going to fence in a rectangular field that encloses $75 ft^2$. Determine the dimensions of the field that will require the least amount of fencing material to be used."
      ],
      "metadata": {
        "id": "_b8xMZZivosY"
      }
    },
    {
      "cell_type": "markdown",
      "source": [
        "# **Activity:**"
      ],
      "metadata": {
        "id": "n_1Z-KrPu8b_"
      }
    },
    {
      "cell_type": "markdown",
      "source": [
        "**Q1.** We want to build a box whose base length is $6$ times the base width and the box will enclose $20 in^3$. The cost of the material of the sides is Nu. $3/in^2$ and the cost of the top and bottom is Nu.$15/in^2$. Determine the dimensions of the box that will minimize the cost. \n"
      ],
      "metadata": {
        "id": "Fgwfhbz9oIEt"
      }
    },
    {
      "cell_type": "markdown",
      "source": [
        "**Q2.** Let $x$ and $y$ be two positive numbers such that $x+2y=50$ and $(x+1)(y+2)$ is a maximum."
      ],
      "metadata": {
        "id": "KsDJI8U7qm84"
      }
    },
    {
      "cell_type": "markdown",
      "source": [
        "**Q3.** We have $45m^2$ of material to build a box with a square base and no top. Determine the dimensions of the box that will maximize the enclosed volume."
      ],
      "metadata": {
        "id": "MayDtv1Vt9aR"
      }
    },
    {
      "cell_type": "markdown",
      "source": [
        "**Q4.** Show that a rectangle with a fixed perimeter and a maximum area is a square."
      ],
      "metadata": {
        "id": "BL8rZyLTu5Dq"
      }
    }
  ]
}